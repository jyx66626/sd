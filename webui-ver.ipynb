{
  "cells": [
    {
      "cell_type": "markdown",
      "metadata": {
        "id": "view-in-github",
        "colab_type": "text"
      },
      "source": [
        "<a href=\"https://colab.research.google.com/github/jyx66626/sd/blob/main/webui-ver.ipynb\" target=\"_parent\"><img src=\"https://colab.research.google.com/assets/colab-badge.svg\" alt=\"Open In Colab\"/></a>"
      ]
    },
    {
      "cell_type": "markdown",
      "metadata": {
        "id": "OHCtG9MT0jLq"
      },
      "source": [
        "克隆webui仓库"
      ]
    },
    {
      "cell_type": "code",
      "execution_count": 3,
      "metadata": {
        "colab": {
          "base_uri": "https://localhost:8080/"
        },
        "id": "sBbcB4vwj_jm",
        "outputId": "7e30389a-bda7-4ad7-8897-0633e2507cd8"
      },
      "outputs": [
        {
          "output_type": "stream",
          "name": "stdout",
          "text": [
            "Cloning into 'stable-diffusion-webui'...\n",
            "remote: Enumerating objects: 12190, done.\u001b[K\n",
            "remote: Total 12190 (delta 0), reused 0 (delta 0), pack-reused 12190\u001b[K\n",
            "Receiving objects: 100% (12190/12190), 24.15 MiB | 12.75 MiB/s, done.\n",
            "Resolving deltas: 100% (8531/8531), done.\n",
            "/content/stable-diffusion-webui/localizations\n",
            "Cloning into 'stable-diffusion-webui-chinese'...\n",
            "remote: Enumerating objects: 321, done.\u001b[K\n",
            "remote: Counting objects: 100% (321/321), done.\u001b[K\n",
            "remote: Compressing objects: 100% (215/215), done.\u001b[K\n",
            "remote: Total 321 (delta 157), reused 267 (delta 103), pack-reused 0\u001b[K\n",
            "Receiving objects: 100% (321/321), 1.95 MiB | 4.07 MiB/s, done.\n",
            "Resolving deltas: 100% (157/157), done.\n"
          ]
        }
      ],
      "source": [
        "!git clone https://github.com/AUTOMATIC1111/stable-diffusion-webui\n",
        "%cd /content/stable-diffusion-webui/localizations\n",
        "!git clone https://github.com/VinsonLaro/stable-diffusion-webui-chinese.git\n",
        "!mv -f /content/stable-diffusion-webui/localizations/stable-diffusion-webui-chinese/Chinese-All.json /content/stable-diffusion-webui/localizations"
      ]
    },
    {
      "cell_type": "code",
      "execution_count": 5,
      "metadata": {
        "id": "DkeGz-Rn8o8c",
        "outputId": "ed5a266a-b9f0-4ec3-ebee-65169886be8c",
        "colab": {
          "base_uri": "https://localhost:8080/"
        }
      },
      "outputs": [
        {
          "output_type": "stream",
          "name": "stdout",
          "text": [
            "/content/stable-diffusion-webui/extensions\n",
            "mkdir: cannot create directory ‘tagger’: File exists\n",
            "/content/stable-diffusion-webui/extensions/tagger\n",
            "Cloning into 'stable-diffusion-webui-wd14-tagger'...\n",
            "remote: Enumerating objects: 218, done.\u001b[K\n",
            "remote: Counting objects: 100% (218/218), done.\u001b[K\n",
            "remote: Compressing objects: 100% (125/125), done.\u001b[K\n",
            "remote: Total 218 (delta 107), reused 160 (delta 58), pack-reused 0\u001b[K\n",
            "Receiving objects: 100% (218/218), 1.04 MiB | 1.59 MiB/s, done.\n",
            "Resolving deltas: 100% (107/107), done.\n",
            "/content/stable-diffusion-webui/models\n"
          ]
        }
      ],
      "source": [
        "#安装tag识别插件要手动移动\n",
        "%cd /content/stable-diffusion-webui/extensions\n",
        "!mkdir tagger\n",
        "!git clone https://github.com/toriato/stable-diffusion-webui-wd14-tagger.git \n",
        "%cd /content/stable-diffusion-webui/models/"
      ]
    },
    {
      "cell_type": "code",
      "execution_count": null,
      "metadata": {
        "id": "Xenyyf0DOfyi"
      },
      "outputs": [],
      "source": [
        "#安装依赖\n",
        "import sys\n",
        "!wget https://repo.anaconda.com/miniconda/Miniconda3-latest-Linux-x86_64.sh\n",
        "!chmod +x Miniconda3-latest-Linux-x86_64.sh\n",
        "!bash ./Miniconda3-latest-Linux-x86_64.sh -b -f -p /usr/local\n",
        "sys.path.append('/usr/local/lib/python3.7/site-packages/')\n",
        "!rm Miniconda3-latest-Linux-x86_64.sh"
      ]
    },
    {
      "cell_type": "code",
      "execution_count": null,
      "metadata": {
        "id": "T5VeSNfTOkNC"
      },
      "outputs": [],
      "source": [
        "#安装下载工具\n",
        "!sudo apt-get install aria2\n",
        "!sudo apt-get install file\n",
        "!sudo apt-get installl unzip"
      ]
    },
    {
      "cell_type": "code",
      "execution_count": 11,
      "metadata": {
        "colab": {
          "base_uri": "https://localhost:8080/"
        },
        "id": "k1Dt3cW6QlQ9",
        "outputId": "7adbe842-25c3-4767-8325-649166cfd040"
      },
      "outputs": [
        {
          "output_type": "stream",
          "name": "stdout",
          "text": [
            "/content/stable-diffusion-webui/models/Stable-diffusion\n",
            "\n",
            "12/22 10:10:27 [\u001b[1;32mNOTICE\u001b[0m] Downloading 1 item(s)\n",
            " *** Download Progress Summary as of Thu Dec 22 10:11:27 2022 *** \n",
            "=\n",
            "[#47125b 32MiB/3.7GiB(0%) CN:1 DL:1.0MiB ETA:1h2m39s]\n",
            "FILE: /content/stable-diffusion-webui/models/Stable-diffusion/wlop厚涂.ckpt\n",
            "-\n",
            "\n",
            " *** Download Progress Summary as of Thu Dec 22 10:12:28 2022 *** \n",
            "=\n",
            "[#47125b 116MiB/3.7GiB(3%) CN:1 DL:1.7MiB ETA:35m2s]\n",
            "FILE: /content/stable-diffusion-webui/models/Stable-diffusion/wlop厚涂.ckpt\n",
            "-\n",
            "\n",
            " *** Download Progress Summary as of Thu Dec 22 10:13:29 2022 *** \n",
            "=\n",
            "[#47125b 210MiB/3.7GiB(5%) CN:1 DL:893KiB ETA:1h9m13s]\n",
            "FILE: /content/stable-diffusion-webui/models/Stable-diffusion/wlop厚涂.ckpt\n",
            "-\n",
            "\n",
            " *** Download Progress Summary as of Thu Dec 22 10:14:30 2022 *** \n",
            "=\n",
            "[#47125b 264MiB/3.7GiB(6%) CN:1 DL:1.4MiB ETA:41m40s]\n",
            "FILE: /content/stable-diffusion-webui/models/Stable-diffusion/wlop厚涂.ckpt\n",
            "-\n",
            "\n",
            "\u001b[0m\n",
            "12/22 10:15:02 [\u001b[1;32mNOTICE\u001b[0m] Shutdown sequence commencing... Press Ctrl-C again for emergency shutdown.\n",
            "\n",
            "12/22 10:15:02 [\u001b[1;32mNOTICE\u001b[0m] Download GID#47125bafe032e74f not complete: /content/stable-diffusion-webui/models/Stable-diffusion/wlop厚涂.ckpt\n",
            "\n",
            "Download Results:\n",
            "gid   |stat|avg speed  |path/URI\n",
            "======+====+===========+=======================================================\n",
            "47125b|\u001b[1;34mINPR\u001b[0m|   1.1MiB/s|/content/stable-diffusion-webui/models/Stable-diffusion/wlop厚涂.ckpt\n",
            "\n",
            "Status Legend:\n",
            "(INPR):download in-progress.\n",
            "\n",
            "aria2 will resume download if the transfer is restarted.\n",
            "If there are any errors, then see the log file. See '-l' option in help/man page for details.\n"
          ]
        }
      ],
      "source": [
        "%cd /content/stable-diffusion-webui/models/Stable-diffusion/\n",
        "#官方模型\n",
        "!aria2c --seed-time=0 \"magnet:?xt=urn:btih:d9db662ab5ace77004b3348c23c9381380c27156&dn=Anything-V3.0-fp32.zip&tr=udp%3a%2f%2ftracker.opentrackr.org%3a1337%2fannounce&tr=udp%3a%2f%2f9.rarbg.com%3a2810%2fannounce&tr=udp%3a%2f%2fopentracker.i2p.rocks%3a6969%2fannounce&tr=https%3a%2f%2fopentracker.i2p.rocks%3a443%2fannounce&tr=udp%3a%2f%2ftracker.torrent.eu.org%3a451%2fannounce&tr=udp%3a%2f%2fopen.stealth.si%3a80%2fannounce&tr=http%3a%2f%2ftracker.openbittorrent.com%3a80%2fannounce&tr=udp%3a%2f%2fvibe.sleepyinternetfun.xyz%3a1738%2fannounce&tr=udp%3a%2f%2ftracker1.bt.moack.co.kr%3a80%2fannounce&tr=udp%3a%2f%2ftracker.zerobytes.xyz%3a1337%2fannounce&tr=udp%3a%2f%2ftracker.tiny-vps.com%3a6969%2fannounce&tr=udp%3a%2f%2ftracker.theoks.net%3a6969%2fannounce&tr=udp%3a%2f%2ftracker.swateam.org.uk%3a2710%2fannounce&tr=udp%3a%2f%2ftracker.publictracker.xyz%3a6969%2fannounce&tr=udp%3a%2f%2ftracker.monitorit4.me%3a6969%2fannounce&tr=udp%3a%2f%2ftracker.moeking.me%3a6969%2fannounce&tr=udp%3a%2f%2ftracker.encrypted-data.xyz%3a1337%2fannounce&tr=udp%3a%2f%2ftracker.dler.org%3a6969%2fannounce&tr=udp%3a%2f%2ftracker.army%3a6969%2fannounce&tr=udp%3a%2f%2ftracker.altrosky.nl%3a6969%2fannounce\"\n",
        "!unzip Anything-V3.0-fp32.zip\n",
        "!rm -f Anything-V3.0-fp32.zip\n",
        "!mv /content/stable-diffusion-webui/models/Stable-diffusion/Anything-V3.0.vae.pt /content/stable-diffusion-webui/models/VAE\n",
        "#wlop慢\n",
        "#!aria2c https://ddns.kurokitomoko.top:240/d/%E6%A8%A1%E5%9E%8B%E5%BA%93/ckpt/Stable%20DIffusion%E6%A8%A1%E5%9E%8B%E5%BA%93/%E9%A3%8E%E6%A0%BC%E6%A8%A1%E5%9E%8B/wlop%E5%8E%9A%E6%B6%82.ckpt\n",
        "!aria2c https://www.123114514.xyz/d/models/ckpt/(%E6%8E%A8%E8%8D%90)animesfw-final-pruned.ckpt\n",
        "%cd /content/stable-diffusion-webui/embeddings\n",
        "!aria2c https://www.123114514.xyz/d/models/embeddings/%E6%B8%B8%E6%88%8F/%E6%98%8E%E6%97%A5%E6%96%B9%E8%88%9F/%E6%98%8E%E6%97%A5%E6%96%B9%E8%88%9F-%E8%89%BE%E4%B8%BD%E5%A6%AE-16000.pt\n"
      ]
    },
    {
      "cell_type": "code",
      "execution_count": 9,
      "metadata": {
        "colab": {
          "base_uri": "https://localhost:8080/"
        },
        "id": "ZzRNMT42Gw_p",
        "outputId": "95f79e21-b7b8-4eda-d4a1-f7c2da08542e"
      },
      "outputs": [
        {
          "output_type": "stream",
          "name": "stdout",
          "text": [
            "mkdir: cannot create directory ‘/’: File exists\n",
            "mkdir: cannot create directory ‘content/stable-diffusion-webui/embeddings’: No such file or directory\n",
            "/content/stable-diffusion-webui/models/Stable-diffusion\n"
          ]
        }
      ],
      "source": [
        "!mkdir -p  /content/stable-diffusion-webui/models/hypernetworks\n",
        "!mkdir - p / content/stable-diffusion-webui/embeddings\n",
        "%cd /content/stable-diffusion-webui/models/Stable-diffusion/"
      ]
    },
    {
      "cell_type": "markdown",
      "source": [],
      "metadata": {
        "id": "GViToU8aSHPs"
      }
    },
    {
      "cell_type": "markdown",
      "metadata": {
        "id": "xt8lbdmC04ox"
      },
      "source": [
        "启动 web ui. 您将获得一个链接 nnn.gradio.app, 访问它.\n",
        "\n",
        "命令行参数是:\n",
        "  - `--share` - 创建在线 gradio.app 链接\n",
        "  - `--gradio-debug` - 将输出打印到控制台\n",
        "  - `--gradio-auth me:qwerty` - 添加身份验证到 gradio：用户名 me，密码 qwerty"
      ]
    },
    {
      "cell_type": "code",
      "execution_count": null,
      "metadata": {
        "colab": {
          "base_uri": "https://localhost:8080/"
        },
        "id": "R-xAdMA5wxXd",
        "outputId": "a0db6058-47bc-46a3-8b36-797831a39ef2"
      },
      "outputs": [
        {
          "output_type": "stream",
          "name": "stdout",
          "text": [
            "/content/stable-diffusion-webui\n",
            "Python 3.9.12 (main, Apr  5 2022, 06:56:58) \n",
            "[GCC 7.5.0]\n",
            "Commit hash: 685f9631b56ff8bd43bce24ff5ce0f9a0e9af490\n",
            "Installing requirements for Web UI\n",
            "\n",
            "Launching Web UI with arguments: --share --gradio-debug --medvram --gradio-auth 1111:1111\n",
            "No module 'xformers'. Proceeding without it.\n",
            "LatentDiffusion: Running in eps-prediction mode\n",
            "DiffusionWrapper has 859.52 M params.\n",
            "Loading weights [1a7df6b8] from /content/stable-diffusion-webui/models/Stable-diffusion/Anything-V3.0-pruned-fp32.ckpt\n",
            "Applying cross attention optimization (Doggettx).\n",
            "Model loaded.\n",
            "Error verifying pickled file from /content/stable-diffusion-webui/embeddings/-:\n",
            "Traceback (most recent call last):\n",
            "  File \"/content/stable-diffusion-webui/modules/safe.py\", line 135, in load_with_extra\n",
            "    check_pt(filename, extra_handler)\n",
            "  File \"/content/stable-diffusion-webui/modules/safe.py\", line 81, in check_pt\n",
            "    with zipfile.ZipFile(filename) as z:\n",
            "  File \"/usr/local/lib/python3.9/zipfile.py\", line 1248, in __init__\n",
            "    self.fp = io.open(file, filemode)\n",
            "IsADirectoryError: [Errno 21] Is a directory: '/content/stable-diffusion-webui/embeddings/-'\n",
            "\n",
            "\n",
            "The file may be malicious, so the program is not going to read it.\n",
            "You can skip this check with --disable-safe-unpickle commandline argument.\n",
            "\n",
            "\n",
            "Error loading emedding -:\n",
            "Traceback (most recent call last):\n",
            "  File \"/content/stable-diffusion-webui/modules/textual_inversion/textual_inversion.py\", line 134, in load_textual_inversion_embeddings\n",
            "    process_file(fullfn, fn)\n",
            "  File \"/content/stable-diffusion-webui/modules/textual_inversion/textual_inversion.py\", line 104, in process_file\n",
            "    if 'string_to_param' in data:\n",
            "TypeError: argument of type 'NoneType' is not iterable\n",
            "\n",
            "Error verifying pickled file from /content/stable-diffusion-webui/embeddings/p:\n",
            "Traceback (most recent call last):\n",
            "  File \"/content/stable-diffusion-webui/modules/safe.py\", line 135, in load_with_extra\n",
            "    check_pt(filename, extra_handler)\n",
            "  File \"/content/stable-diffusion-webui/modules/safe.py\", line 81, in check_pt\n",
            "    with zipfile.ZipFile(filename) as z:\n",
            "  File \"/usr/local/lib/python3.9/zipfile.py\", line 1248, in __init__\n",
            "    self.fp = io.open(file, filemode)\n",
            "IsADirectoryError: [Errno 21] Is a directory: '/content/stable-diffusion-webui/embeddings/p'\n",
            "\n",
            "\n",
            "The file may be malicious, so the program is not going to read it.\n",
            "You can skip this check with --disable-safe-unpickle commandline argument.\n",
            "\n",
            "\n",
            "Error loading emedding p:\n",
            "Traceback (most recent call last):\n",
            "  File \"/content/stable-diffusion-webui/modules/textual_inversion/textual_inversion.py\", line 134, in load_textual_inversion_embeddings\n",
            "    process_file(fullfn, fn)\n",
            "  File \"/content/stable-diffusion-webui/modules/textual_inversion/textual_inversion.py\", line 104, in process_file\n",
            "    if 'string_to_param' in data:\n",
            "TypeError: argument of type 'NoneType' is not iterable\n",
            "\n",
            "Loaded a total of 1 textual inversion embeddings.\n",
            "Embeddings: 明日方舟-艾丽妮-16000\n",
            "Running on local URL:  http://127.0.0.1:7860\n",
            "Running on public URL: https://4faa846853dafbdf.gradio.app\n",
            "\n",
            "This share link expires in 72 hours. For free permanent hosting and GPU upgrades (NEW!), check out Spaces: https://huggingface.co/spaces\n"
          ]
        }
      ],
      "source": [
        "%cd /content/stable-diffusion-webui\n",
        "!COMMANDLINE_ARGS=\"--share --gradio-debug --medvram --gradio-auth 1111:1111\" REQS_FILE=\"requirements.txt\" python launch.py"
      ]
    },
    {
      "cell_type": "markdown",
      "metadata": {
        "id": "aCtJffM2ZE06"
      },
      "source": [
        "用于在本地驱动器上下载的Zip图像（单击左侧的文件夹图标，即{x}下方的文件夹图标）"
      ]
    },
    {
      "cell_type": "code",
      "execution_count": null,
      "metadata": {
        "id": "TmRqNyiAZCHu"
      },
      "outputs": [],
      "source": [
        "!zip -r /content/stable-diffusion-webui /content/stable-diffusion-webui/outputs "
      ]
    },
    {
      "cell_type": "code",
      "source": [
        "from google.colab import drive\n",
        "drive.mount('/content/drive')"
      ],
      "metadata": {
        "id": "br1TPsXPQB7s"
      },
      "execution_count": null,
      "outputs": []
    },
    {
      "cell_type": "markdown",
      "metadata": {
        "id": "tcslU-S2ZNr9"
      },
      "source": [
        "将图像保存到Google云端硬盘 **Warning: this will cause google to scan your drive, so if you intend to use this and worry about that kind of stuff, probablly just set this up on a clean account that's just for this colab**"
      ]
    },
    {
      "cell_type": "code",
      "execution_count": null,
      "metadata": {
        "id": "-N0lnu-TZOTW"
      },
      "outputs": [],
      "source": [
        "from google.colab import drive # type: ignore\n",
        "\n",
        "try:\n",
        "   drive_path = \"/content/drive\"\n",
        "   drive.mount(drive_path,force_remount=False)\n",
        "except:\n",
        "   print(\"...error mounting drive or with drive path variables\")\n",
        "\n",
        "!cp -r \"/content/stable-diffusion-webui/textual_inversion\" \"/content/drive/MyDrive\""
      ]
    }
  ],
  "metadata": {
    "accelerator": "GPU",
    "colab": {
      "provenance": [],
      "include_colab_link": true
    },
    "gpuClass": "standard",
    "kernelspec": {
      "display_name": "Python 3.10.6 64-bit",
      "language": "python",
      "name": "python3"
    },
    "language_info": {
      "name": "python",
      "version": "3.10.6"
    },
    "vscode": {
      "interpreter": {
        "hash": "301a17a29b57d3836b7901af1621afd6d2b1f2298b9c7949191147cf2fea93e3"
      }
    }
  },
  "nbformat": 4,
  "nbformat_minor": 0
}