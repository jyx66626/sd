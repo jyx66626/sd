{
  "cells": [
    {
      "cell_type": "markdown",
      "metadata": {
        "id": "view-in-github",
        "colab_type": "text"
      },
      "source": [
        "<a href=\"https://colab.research.google.com/github/jyx66626/sd/blob/main/webui-ver.ipynb\" target=\"_parent\"><img src=\"https://colab.research.google.com/assets/colab-badge.svg\" alt=\"Open In Colab\"/></a>"
      ]
    },
    {
      "cell_type": "markdown",
      "metadata": {
        "id": "OHCtG9MT0jLq"
      },
      "source": [
        "克隆webui仓库"
      ]
    },
    {
      "cell_type": "code",
      "execution_count": 1,
      "metadata": {
        "colab": {
          "base_uri": "https://localhost:8080/"
        },
        "id": "sBbcB4vwj_jm",
        "outputId": "d119f899-b214-4b24-bbf7-a387b8faa281"
      },
      "outputs": [
        {
          "output_type": "stream",
          "name": "stdout",
          "text": [
            "Cloning into 'stable-diffusion-webui'...\n",
            "remote: Enumerating objects: 12334, done.\u001b[K\n",
            "remote: Counting objects: 100% (59/59), done.\u001b[K\n",
            "remote: Compressing objects: 100% (52/52), done.\u001b[K\n",
            "remote: Total 12334 (delta 30), reused 17 (delta 7), pack-reused 12275\u001b[K\n",
            "Receiving objects: 100% (12334/12334), 24.39 MiB | 20.02 MiB/s, done.\n",
            "Resolving deltas: 100% (8601/8601), done.\n",
            "/content/stable-diffusion-webui/localizations\n",
            "Cloning into 'stable-diffusion-webui-chinese'...\n",
            "remote: Enumerating objects: 321, done.\u001b[K\n",
            "remote: Counting objects: 100% (321/321), done.\u001b[K\n",
            "remote: Compressing objects: 100% (215/215), done.\u001b[K\n",
            "remote: Total 321 (delta 157), reused 267 (delta 103), pack-reused 0\u001b[K\n",
            "Receiving objects: 100% (321/321), 1.95 MiB | 9.46 MiB/s, done.\n",
            "Resolving deltas: 100% (157/157), done.\n"
          ]
        }
      ],
      "source": [
        "!git clone https://github.com/AUTOMATIC1111/stable-diffusion-webui\n",
        "%cd /content/stable-diffusion-webui/localizations\n",
        "!git clone https://github.com/VinsonLaro/stable-diffusion-webui-chinese.git\n",
        "!mv -f /content/stable-diffusion-webui/localizations/stable-diffusion-webui-chinese/Chinese-All.json /content/stable-diffusion-webui/localizations"
      ]
    },
    {
      "cell_type": "code",
      "execution_count": 2,
      "metadata": {
        "id": "DkeGz-Rn8o8c",
        "outputId": "54031c77-e0ed-4b79-da90-19f50fc715d0",
        "colab": {
          "base_uri": "https://localhost:8080/"
        }
      },
      "outputs": [
        {
          "output_type": "stream",
          "name": "stdout",
          "text": [
            "/content/stable-diffusion-webui/extensions\n",
            "Cloning into 'stable-diffusion-webui-wd14-tagger'...\n",
            "remote: Enumerating objects: 218, done.\u001b[K\n",
            "remote: Counting objects: 100% (218/218), done.\u001b[K\n",
            "remote: Compressing objects: 100% (125/125), done.\u001b[K\n",
            "remote: Total 218 (delta 107), reused 160 (delta 58), pack-reused 0\u001b[K\n",
            "Receiving objects: 100% (218/218), 1.04 MiB | 27.33 MiB/s, done.\n",
            "Resolving deltas: 100% (107/107), done.\n",
            "/content/stable-diffusion-webui/models\n"
          ]
        }
      ],
      "source": [
        "#安装tag识别插件要手动移动\n",
        "%cd /content/stable-diffusion-webui/extensions\n",
        "!mkdir tagger\n",
        "!git clone https://github.com/toriato/stable-diffusion-webui-wd14-tagger.git \n",
        "%cd /content/stable-diffusion-webui/models/"
      ]
    },
    {
      "cell_type": "code",
      "execution_count": 3,
      "metadata": {
        "id": "Xenyyf0DOfyi",
        "outputId": "413a3051-4640-4ec9-ebe6-2c273a4b438c",
        "colab": {
          "base_uri": "https://localhost:8080/"
        }
      },
      "outputs": [
        {
          "output_type": "stream",
          "name": "stdout",
          "text": [
            "--2022-12-24 06:34:10--  https://repo.anaconda.com/miniconda/Miniconda3-latest-Linux-x86_64.sh\n",
            "Resolving repo.anaconda.com (repo.anaconda.com)... 104.16.131.3, 104.16.130.3, 2606:4700::6810:8203, ...\n",
            "Connecting to repo.anaconda.com (repo.anaconda.com)|104.16.131.3|:443... connected.\n",
            "HTTP request sent, awaiting response... 200 OK\n",
            "Length: 72402405 (69M) [application/x-sh]\n",
            "Saving to: ‘Miniconda3-latest-Linux-x86_64.sh’\n",
            "\n",
            "\r          Miniconda   0%[                    ]       0  --.-KB/s               \r         Miniconda3  96%[==================> ]  66.73M   334MB/s               \rMiniconda3-latest-L 100%[===================>]  69.05M   337MB/s    in 0.2s    \n",
            "\n",
            "2022-12-24 06:34:10 (337 MB/s) - ‘Miniconda3-latest-Linux-x86_64.sh’ saved [72402405/72402405]\n",
            "\n",
            "PREFIX=/usr/local\n",
            "Unpacking payload ...\n",
            "                                                                                              \n",
            "Installing base environment...\n",
            "\n",
            "\n",
            "Downloading and Extracting Packages\n",
            "\n",
            "\n",
            "Downloading and Extracting Packages\n",
            "\n",
            "Preparing transaction: - \b\b\\ \b\b| \b\b/ \b\bdone\n",
            "Executing transaction: \\ \b\b| \b\b/ \b\b- \b\b\\ \b\b| \b\b/ \b\b- \b\b\\ \b\b| \b\b/ \b\b- \b\b\\ \b\b| \b\b/ \b\b- \b\b\\ \b\b| \b\b/ \b\b- \b\b\\ \b\b| \b\b/ \b\b- \b\b\\ \b\b| \b\bdone\n",
            "installation finished.\n",
            "WARNING:\n",
            "    You currently have a PYTHONPATH environment variable set. This may cause\n",
            "    unexpected behavior when running the Python interpreter in Miniconda3.\n",
            "    For best results, please verify that your PYTHONPATH only points to\n",
            "    directories of packages that are compatible with the Python interpreter\n",
            "    in Miniconda3: /usr/local\n"
          ]
        }
      ],
      "source": [
        "#安装依赖\n",
        "import sys\n",
        "!wget https://repo.anaconda.com/miniconda/Miniconda3-latest-Linux-x86_64.sh\n",
        "!chmod +x Miniconda3-latest-Linux-x86_64.sh\n",
        "!bash ./Miniconda3-latest-Linux-x86_64.sh -b -f -p /usr/local\n",
        "sys.path.append('/usr/local/lib/python3.7/site-packages/')\n",
        "!rm Miniconda3-latest-Linux-x86_64.sh"
      ]
    },
    {
      "cell_type": "code",
      "execution_count": 4,
      "metadata": {
        "id": "T5VeSNfTOkNC",
        "outputId": "33ef7fef-cbd2-4cb7-9956-886080ca2b7a",
        "colab": {
          "base_uri": "https://localhost:8080/"
        }
      },
      "outputs": [
        {
          "output_type": "stream",
          "name": "stdout",
          "text": [
            "Reading package lists... Done\n",
            "Building dependency tree       \n",
            "Reading state information... Done\n",
            "The following package was automatically installed and is no longer required:\n",
            "  libnvidia-common-460\n",
            "Use 'sudo apt autoremove' to remove it.\n",
            "The following additional packages will be installed:\n",
            "  libc-ares2\n",
            "The following NEW packages will be installed:\n",
            "  aria2 libc-ares2\n",
            "0 upgraded, 2 newly installed, 0 to remove and 20 not upgraded.\n",
            "Need to get 1,274 kB of archives.\n",
            "After this operation, 4,912 kB of additional disk space will be used.\n",
            "Get:1 http://archive.ubuntu.com/ubuntu bionic-updates/main amd64 libc-ares2 amd64 1.14.0-1ubuntu0.1 [37.5 kB]\n",
            "Get:2 http://archive.ubuntu.com/ubuntu bionic/universe amd64 aria2 amd64 1.33.1-1 [1,236 kB]\n",
            "Fetched 1,274 kB in 1s (1,399 kB/s)\n",
            "debconf: unable to initialize frontend: Dialog\n",
            "debconf: (No usable dialog-like program is installed, so the dialog based frontend cannot be used. at /usr/share/perl5/Debconf/FrontEnd/Dialog.pm line 76, <> line 2.)\n",
            "debconf: falling back to frontend: Readline\n",
            "debconf: unable to initialize frontend: Readline\n",
            "debconf: (This frontend requires a controlling tty.)\n",
            "debconf: falling back to frontend: Teletype\n",
            "dpkg-preconfigure: unable to re-open stdin: \n",
            "Selecting previously unselected package libc-ares2:amd64.\n",
            "(Reading database ... 124016 files and directories currently installed.)\n",
            "Preparing to unpack .../libc-ares2_1.14.0-1ubuntu0.1_amd64.deb ...\n",
            "Unpacking libc-ares2:amd64 (1.14.0-1ubuntu0.1) ...\n",
            "Selecting previously unselected package aria2.\n",
            "Preparing to unpack .../aria2_1.33.1-1_amd64.deb ...\n",
            "Unpacking aria2 (1.33.1-1) ...\n",
            "Setting up libc-ares2:amd64 (1.14.0-1ubuntu0.1) ...\n",
            "Setting up aria2 (1.33.1-1) ...\n",
            "Processing triggers for man-db (2.8.3-2ubuntu0.1) ...\n",
            "Processing triggers for libc-bin (2.27-3ubuntu1.6) ...\n",
            "Reading package lists... Done\n",
            "Building dependency tree       \n",
            "Reading state information... Done\n",
            "The following package was automatically installed and is no longer required:\n",
            "  libnvidia-common-460\n",
            "Use 'sudo apt autoremove' to remove it.\n",
            "The following additional packages will be installed:\n",
            "  libmagic-mgc libmagic1\n",
            "The following NEW packages will be installed:\n",
            "  file libmagic-mgc libmagic1\n",
            "0 upgraded, 3 newly installed, 0 to remove and 20 not upgraded.\n",
            "Need to get 275 kB of archives.\n",
            "After this operation, 5,297 kB of additional disk space will be used.\n",
            "Get:1 http://archive.ubuntu.com/ubuntu bionic-updates/main amd64 libmagic-mgc amd64 1:5.32-2ubuntu0.4 [184 kB]\n",
            "Get:2 http://archive.ubuntu.com/ubuntu bionic-updates/main amd64 libmagic1 amd64 1:5.32-2ubuntu0.4 [68.6 kB]\n",
            "Get:3 http://archive.ubuntu.com/ubuntu bionic-updates/main amd64 file amd64 1:5.32-2ubuntu0.4 [22.1 kB]\n",
            "Fetched 275 kB in 1s (449 kB/s)\n",
            "debconf: unable to initialize frontend: Dialog\n",
            "debconf: (No usable dialog-like program is installed, so the dialog based frontend cannot be used. at /usr/share/perl5/Debconf/FrontEnd/Dialog.pm line 76, <> line 3.)\n",
            "debconf: falling back to frontend: Readline\n",
            "debconf: unable to initialize frontend: Readline\n",
            "debconf: (This frontend requires a controlling tty.)\n",
            "debconf: falling back to frontend: Teletype\n",
            "dpkg-preconfigure: unable to re-open stdin: \n",
            "Selecting previously unselected package libmagic-mgc.\n",
            "(Reading database ... 124083 files and directories currently installed.)\n",
            "Preparing to unpack .../libmagic-mgc_1%3a5.32-2ubuntu0.4_amd64.deb ...\n",
            "Unpacking libmagic-mgc (1:5.32-2ubuntu0.4) ...\n",
            "Selecting previously unselected package libmagic1:amd64.\n",
            "Preparing to unpack .../libmagic1_1%3a5.32-2ubuntu0.4_amd64.deb ...\n",
            "Unpacking libmagic1:amd64 (1:5.32-2ubuntu0.4) ...\n",
            "Selecting previously unselected package file.\n",
            "Preparing to unpack .../file_1%3a5.32-2ubuntu0.4_amd64.deb ...\n",
            "Unpacking file (1:5.32-2ubuntu0.4) ...\n",
            "Setting up libmagic-mgc (1:5.32-2ubuntu0.4) ...\n",
            "Setting up libmagic1:amd64 (1:5.32-2ubuntu0.4) ...\n",
            "Setting up file (1:5.32-2ubuntu0.4) ...\n",
            "Processing triggers for man-db (2.8.3-2ubuntu0.1) ...\n",
            "Processing triggers for libc-bin (2.27-3ubuntu1.6) ...\n",
            "E: Invalid operation installl\n"
          ]
        }
      ],
      "source": [
        "#安装下载工具\n",
        "!sudo apt-get install aria2\n",
        "!sudo apt-get install file\n",
        "!sudo apt-get installl unzip"
      ]
    },
    {
      "cell_type": "code",
      "execution_count": 5,
      "metadata": {
        "id": "k1Dt3cW6QlQ9",
        "outputId": "73267bb1-e8ab-4f71-9d7c-515677165cf1",
        "colab": {
          "base_uri": "https://localhost:8080/"
        }
      },
      "outputs": [
        {
          "output_type": "stream",
          "name": "stdout",
          "text": [
            "/content/stable-diffusion-webui/models/Stable-diffusion\n",
            "\n",
            "12/24 06:34:33 [\u001b[1;32mNOTICE\u001b[0m] Downloading 1 item(s)\n",
            "\n",
            "12/24 06:34:33 [\u001b[1;31mERROR\u001b[0m] Exception caught while loading DHT routing table from /root/.cache/aria2/dht.dat\n",
            "Exception: [DHTRoutingTableDeserializer.cc:83] errorCode=1 Failed to load DHT routing table from /root/.cache/aria2/dht.dat\n",
            "\n",
            "12/24 06:34:33 [\u001b[1;32mNOTICE\u001b[0m] IPv4 DHT: listening on UDP port 6932\n",
            "\n",
            "12/24 06:34:33 [\u001b[1;32mNOTICE\u001b[0m] IPv4 BitTorrent: listening on TCP port 6918\n",
            "\n",
            "12/24 06:34:33 [\u001b[1;31mERROR\u001b[0m] IPv6 BitTorrent: failed to bind TCP port 6918\n",
            "Exception: [SocketCore.cc:312] errorCode=1 Failed to bind a socket, cause: Name or service not known\n",
            "\u001b[0m\n",
            "12/24 06:34:35 [\u001b[1;32mNOTICE\u001b[0m] Download complete: [MEMORY][METADATA]Anything-V3.0-fp32.zip\n",
            " *** Download Progress Summary as of Sat Dec 24 06:35:33 2022 *** \n",
            "=\n",
            "[#4aa956 2.7GiB/4.3GiB(63%) CN:44 SD:22 DL:68MiB ETA:24s]\n",
            "FILE: /content/stable-diffusion-webui/models/Stable-diffusion/Anything-V3.0-fp32.zip\n",
            "-\n",
            "\n",
            "\u001b[0m\n",
            "12/24 06:36:00 [\u001b[1;32mNOTICE\u001b[0m] Seeding is over.\n",
            "\u001b[0m\n",
            "12/24 06:36:02 [\u001b[1;32mNOTICE\u001b[0m] Download complete: /content/stable-diffusion-webui/models/Stable-diffusion/Anything-V3.0-fp32.zip\n",
            "\n",
            "12/24 06:36:02 [\u001b[1;32mNOTICE\u001b[0m] Your share ratio was 0.0, uploaded/downloaded=0B/4.3GiB\n",
            "\u001b[0m\n",
            "Download Results:\n",
            "gid   |stat|avg speed  |path/URI\n",
            "======+====+===========+=======================================================\n",
            "5f49a8|\u001b[1;32mOK\u001b[0m  |       0B/s|[MEMORY][METADATA]Anything-V3.0-fp32.zip\n",
            "4aa956|\u001b[1;32mOK\u001b[0m  |    53MiB/s|/content/stable-diffusion-webui/models/Stable-diffusion/Anything-V3.0-fp32.zip\n",
            "\n",
            "Status Legend:\n",
            "(OK):download completed.\n",
            "Archive:  Anything-V3.0-fp32.zip\n",
            "  inflating: Anything-V3.0-pruned-fp32.ckpt  \n",
            "  inflating: Anything-V3.0.vae.pt    \n",
            "\n",
            "12/24 06:37:00 [\u001b[1;32mNOTICE\u001b[0m] Downloading 1 item(s)\n",
            "\n",
            "12/24 06:37:01 [\u001b[1;32mNOTICE\u001b[0m] CUID#7 - Redirecting to https://wmvk0-my.sharepoint.com/personal/fzjh2_wmvk0_onmicrosoft_com/_layouts/15/download.aspx?UniqueId=0c1a5945-4d84-4d3e-aaba-bf4d3e8339ae&Translate=false&tempauth=eyJ0eXAiOiJKV1QiLCJhbGciOiJub25lIn0.eyJhdWQiOiIwMDAwMDAwMy0wMDAwLTBmZjEtY2UwMC0wMDAwMDAwMDAwMDAvd212azAtbXkuc2hhcmVwb2ludC5jb21AOTY5ZjZmMTgtYjVjOC00OTVhLWI4MTItNDYxN2I4ZWQ4ODY5IiwiaXNzIjoiMDAwMDAwMDMtMDAwMC0wZmYxLWNlMDAtMDAwMDAwMDAwMDAwIiwibmJmIjoiMTY3MTg2MzgyMSIsImV4cCI6IjE2NzE4Njc0MjEiLCJlbmRwb2ludHVybCI6IldGNzZpWnJlUEtFV1JISGpyOTZ1Wm1IWktjUkdXQ0xma04yaHNXeGFYRnc9IiwiZW5kcG9pbnR1cmxMZW5ndGgiOiIxNTYiLCJpc2xvb3BiYWNrIjoiVHJ1ZSIsImNpZCI6Ik1tUm1aREl4WVRndFlUSXhOUzAwT0dFNExXRTRZbVF0T1dNNE9XUmxPRFE1TW1NNCIsInZlciI6Imhhc2hlZHByb29mdG9rZW4iLCJzaXRlaWQiOiJOR0UwTmpreE0ySXRZMlJqWkMwMFlXSTVMVGt4WldVdE1tSm1NVFkwTWpReE5EZzUiLCJhcHBfZGlzcGxheW5hbWUiOiLotJ_ovb3lnYfooaEyIiwic2lnbmluX3N0YXRlIjoiW1wia21zaVwiXSIsImFwcGlkIjoiNTRjZmJlNDAtNmFjOC00ZGJkLWI0MjUtMWI0YmJjN2RmOWYyIiwidGlkIjoiOTY5ZjZmMTgtYjVjOC00OTVhLWI4MTItNDYxN2I4ZWQ4ODY5IiwidXBuIjoiZnpqaDJAd212azAub25taWNyb3NvZnQuY29tIiwicHVpZCI6IjEwMDMyMDAyNTQ0MjlDMjQiLCJjYWNoZWtleSI6IjBoLmZ8bWVtYmVyc2hpcHwxMDAzMjAwMjU0NDI5YzI0QGxpdmUuY29tIiwic2NwIjoiYWxsZmlsZXMud3JpdGUiLCJ0dCI6IjIiLCJ1c2VQZXJzaXN0ZW50Q29va2llIjpudWxsLCJpcGFkZHIiOiIyMC4xOTAuMTMyLjEwNSJ9.OHJ6S3N1UnJ0dFVlZ3J4Rm1kZnhhdCtPcVR3NXZYTVFsN3hDR0NWWjFaST0&ApiVersion=2.0\n",
            "\u001b[0m\n",
            "12/24 06:37:37 [\u001b[1;32mNOTICE\u001b[0m] Download complete: /content/stable-diffusion-webui/models/Stable-diffusion/(推荐)animesfw-final-pruned.ckpt\n",
            "\n",
            "Download Results:\n",
            "gid   |stat|avg speed  |path/URI\n",
            "======+====+===========+=======================================================\n",
            "46f84b|\u001b[1;32mOK\u001b[0m  |   114MiB/s|/content/stable-diffusion-webui/models/Stable-diffusion/(推荐)animesfw-final-pruned.ckpt\n",
            "\n",
            "Status Legend:\n",
            "(OK):download completed.\n",
            "/content/stable-diffusion-webui/embeddings\n"
          ]
        }
      ],
      "source": [
        "%cd /content/stable-diffusion-webui/models/Stable-diffusion/\n",
        "#官方模型\n",
        "!aria2c --seed-time=0 \"magnet:?xt=urn:btih:d9db662ab5ace77004b3348c23c9381380c27156&dn=Anything-V3.0-fp32.zip&tr=udp%3a%2f%2ftracker.opentrackr.org%3a1337%2fannounce&tr=udp%3a%2f%2f9.rarbg.com%3a2810%2fannounce&tr=udp%3a%2f%2fopentracker.i2p.rocks%3a6969%2fannounce&tr=https%3a%2f%2fopentracker.i2p.rocks%3a443%2fannounce&tr=udp%3a%2f%2ftracker.torrent.eu.org%3a451%2fannounce&tr=udp%3a%2f%2fopen.stealth.si%3a80%2fannounce&tr=http%3a%2f%2ftracker.openbittorrent.com%3a80%2fannounce&tr=udp%3a%2f%2fvibe.sleepyinternetfun.xyz%3a1738%2fannounce&tr=udp%3a%2f%2ftracker1.bt.moack.co.kr%3a80%2fannounce&tr=udp%3a%2f%2ftracker.zerobytes.xyz%3a1337%2fannounce&tr=udp%3a%2f%2ftracker.tiny-vps.com%3a6969%2fannounce&tr=udp%3a%2f%2ftracker.theoks.net%3a6969%2fannounce&tr=udp%3a%2f%2ftracker.swateam.org.uk%3a2710%2fannounce&tr=udp%3a%2f%2ftracker.publictracker.xyz%3a6969%2fannounce&tr=udp%3a%2f%2ftracker.monitorit4.me%3a6969%2fannounce&tr=udp%3a%2f%2ftracker.moeking.me%3a6969%2fannounce&tr=udp%3a%2f%2ftracker.encrypted-data.xyz%3a1337%2fannounce&tr=udp%3a%2f%2ftracker.dler.org%3a6969%2fannounce&tr=udp%3a%2f%2ftracker.army%3a6969%2fannounce&tr=udp%3a%2f%2ftracker.altrosky.nl%3a6969%2fannounce\"\n",
        "!unzip Anything-V3.0-fp32.zip\n",
        "!rm -f Anything-V3.0-fp32.zip\n",
        "!mv /content/stable-diffusion-webui/models/Stable-diffusion/Anything-V3.0.vae.pt /content/stable-diffusion-webui/models/VAE\n",
        "#wlop慢\n",
        "#!aria2c https://ddns.kurokitomoko.top:240/d/%E6%A8%A1%E5%9E%8B%E5%BA%93/ckpt/Stable%20DIffusion%E6%A8%A1%E5%9E%8B%E5%BA%93/%E9%A3%8E%E6%A0%BC%E6%A8%A1%E5%9E%8B/wlop%E5%8E%9A%E6%B6%82.ckpt\n",
        "!aria2c https://www.123114514.xyz/d/models/ckpt/NovelAI/animefull-final-pruned.ckpt\n",
        "%cd /content/stable-diffusion-webui/embeddings"
      ]
    },
    {
      "cell_type": "code",
      "execution_count": 6,
      "metadata": {
        "colab": {
          "base_uri": "https://localhost:8080/"
        },
        "id": "ZzRNMT42Gw_p",
        "outputId": "51aa1080-c9f2-4bab-dd2b-e70d4662be9b"
      },
      "outputs": [
        {
          "output_type": "stream",
          "name": "stdout",
          "text": [
            "mkdir: cannot create directory ‘/’: File exists\n",
            "mkdir: cannot create directory ‘content/stable-diffusion-webui/embeddings’: No such file or directory\n",
            "/content/stable-diffusion-webui/models/Stable-diffusion\n"
          ]
        }
      ],
      "source": [
        "!mkdir -p  /content/stable-diffusion-webui/models/hypernetworks\n",
        "!mkdir - p / content/stable-diffusion-webui/embeddings\n",
        "%cd /content/stable-diffusion-webui/models/Stable-diffusion/"
      ]
    },
    {
      "cell_type": "markdown",
      "source": [],
      "metadata": {
        "id": "GViToU8aSHPs"
      }
    },
    {
      "cell_type": "markdown",
      "metadata": {
        "id": "xt8lbdmC04ox"
      },
      "source": [
        "启动 web ui. 您将获得一个链接 nnn.gradio.app, 访问它.\n",
        "\n",
        "命令行参数是:\n",
        "  - `--share` - 创建在线 gradio.app 链接\n",
        "  - `--gradio-debug` - 将输出打印到控制台\n",
        "  - `--gradio-auth me:qwerty` - 添加身份验证到 gradio：用户名 me，密码 qwerty"
      ]
    },
    {
      "cell_type": "code",
      "execution_count": null,
      "metadata": {
        "colab": {
          "base_uri": "https://localhost:8080/"
        },
        "id": "R-xAdMA5wxXd",
        "outputId": "c9924008-307c-4008-8a12-339c11446f12"
      },
      "outputs": [
        {
          "output_type": "stream",
          "name": "stdout",
          "text": [
            "/content/stable-diffusion-webui\n",
            "Python 3.10.8 (main, Nov 24 2022, 14:13:03) [GCC 11.2.0]\n",
            "Commit hash: 1d9eaf94e32e2d6b817a6796ffa7b0a814580015\n",
            "Installing torch and torchvision\n",
            "Installing gfpgan\n",
            "Installing clip\n",
            "Installing open_clip\n",
            "Cloning Stable Diffusion into repositories/stable-diffusion-stability-ai...\n",
            "Cloning Taming Transformers into repositories/taming-transformers...\n",
            "Cloning K-diffusion into repositories/k-diffusion...\n",
            "Cloning CodeFormer into repositories/CodeFormer...\n",
            "Cloning BLIP into repositories/BLIP...\n",
            "Installing requirements for CodeFormer\n",
            "Installing requirements for Web UI\n",
            "Installing requirements for wd14-tagger\n",
            "\n",
            "Launching Web UI with arguments: --share --gradio-debug --medvram\n",
            "No module 'xformers'. Proceeding without it.\n",
            "LatentDiffusion: Running in eps-prediction mode\n",
            "DiffusionWrapper has 859.52 M params.\n",
            "Downloading: 100% 939k/939k [00:00<00:00, 1.88MB/s]\n",
            "Downloading: 100% 512k/512k [00:00<00:00, 1.23MB/s]\n",
            "Downloading: 100% 389/389 [00:00<00:00, 376kB/s]\n",
            "Downloading: 100% 905/905 [00:00<00:00, 670kB/s]\n",
            "Downloading: 100% 4.41k/4.41k [00:00<00:00, 3.94MB/s]\n",
            "Downloading: 100% 1.59G/1.59G [00:16<00:00, 105MB/s]\n",
            "Loading weights [1d4a34af] from /content/stable-diffusion-webui/models/Stable-diffusion/(推荐)animesfw-final-pruned.ckpt\n",
            "Applying cross attention optimization (Doggettx).\n",
            "Model loaded.\n",
            "Error verifying pickled file from /content/stable-diffusion-webui/embeddings/-:\n",
            "Traceback (most recent call last):\n",
            "  File \"/content/stable-diffusion-webui/modules/safe.py\", line 135, in load_with_extra\n",
            "    check_pt(filename, extra_handler)\n",
            "  File \"/content/stable-diffusion-webui/modules/safe.py\", line 81, in check_pt\n",
            "    with zipfile.ZipFile(filename) as z:\n",
            "  File \"/usr/local/lib/python3.10/zipfile.py\", line 1249, in __init__\n",
            "    self.fp = io.open(file, filemode)\n",
            "IsADirectoryError: [Errno 21] Is a directory: '/content/stable-diffusion-webui/embeddings/-'\n",
            "\n",
            "\n",
            "The file may be malicious, so the program is not going to read it.\n",
            "You can skip this check with --disable-safe-unpickle commandline argument.\n",
            "\n",
            "\n",
            "Error loading emedding -:\n",
            "Traceback (most recent call last):\n",
            "  File \"/content/stable-diffusion-webui/modules/textual_inversion/textual_inversion.py\", line 134, in load_textual_inversion_embeddings\n",
            "    process_file(fullfn, fn)\n",
            "  File \"/content/stable-diffusion-webui/modules/textual_inversion/textual_inversion.py\", line 104, in process_file\n",
            "    if 'string_to_param' in data:\n",
            "TypeError: argument of type 'NoneType' is not iterable\n",
            "\n",
            "Error verifying pickled file from /content/stable-diffusion-webui/embeddings/p:\n",
            "Traceback (most recent call last):\n",
            "  File \"/content/stable-diffusion-webui/modules/safe.py\", line 135, in load_with_extra\n",
            "    check_pt(filename, extra_handler)\n",
            "  File \"/content/stable-diffusion-webui/modules/safe.py\", line 81, in check_pt\n",
            "    with zipfile.ZipFile(filename) as z:\n",
            "  File \"/usr/local/lib/python3.10/zipfile.py\", line 1249, in __init__\n",
            "    self.fp = io.open(file, filemode)\n",
            "IsADirectoryError: [Errno 21] Is a directory: '/content/stable-diffusion-webui/embeddings/p'\n",
            "\n",
            "\n",
            "The file may be malicious, so the program is not going to read it.\n",
            "You can skip this check with --disable-safe-unpickle commandline argument.\n",
            "\n",
            "\n",
            "Error loading emedding p:\n",
            "Traceback (most recent call last):\n",
            "  File \"/content/stable-diffusion-webui/modules/textual_inversion/textual_inversion.py\", line 134, in load_textual_inversion_embeddings\n",
            "    process_file(fullfn, fn)\n",
            "  File \"/content/stable-diffusion-webui/modules/textual_inversion/textual_inversion.py\", line 104, in process_file\n",
            "    if 'string_to_param' in data:\n",
            "TypeError: argument of type 'NoneType' is not iterable\n",
            "\n",
            "Loaded a total of 0 textual inversion embeddings.\n",
            "Embeddings: \n",
            "Running on local URL:  http://127.0.0.1:7860\n",
            "Running on public URL: https://2f40eed80b946f87.gradio.app\n",
            "\n",
            "This share link expires in 72 hours. For free permanent hosting and GPU upgrades (NEW!), check out Spaces: https://huggingface.co/spaces\n",
            "Error verifying pickled file from /content/stable-diffusion-webui/embeddings/-:\n",
            "Traceback (most recent call last):\n",
            "  File \"/content/stable-diffusion-webui/modules/safe.py\", line 135, in load_with_extra\n",
            "    check_pt(filename, extra_handler)\n",
            "  File \"/content/stable-diffusion-webui/modules/safe.py\", line 81, in check_pt\n",
            "    with zipfile.ZipFile(filename) as z:\n",
            "  File \"/usr/local/lib/python3.10/zipfile.py\", line 1249, in __init__\n",
            "    self.fp = io.open(file, filemode)\n",
            "IsADirectoryError: [Errno 21] Is a directory: '/content/stable-diffusion-webui/embeddings/-'\n",
            "\n",
            "\n",
            "The file may be malicious, so the program is not going to read it.\n",
            "You can skip this check with --disable-safe-unpickle commandline argument.\n",
            "\n",
            "\n",
            "Error loading emedding -:\n",
            "Traceback (most recent call last):\n",
            "  File \"/content/stable-diffusion-webui/modules/textual_inversion/textual_inversion.py\", line 134, in load_textual_inversion_embeddings\n",
            "    process_file(fullfn, fn)\n",
            "  File \"/content/stable-diffusion-webui/modules/textual_inversion/textual_inversion.py\", line 104, in process_file\n",
            "    if 'string_to_param' in data:\n",
            "TypeError: argument of type 'NoneType' is not iterable\n",
            "\n",
            "Error verifying pickled file from /content/stable-diffusion-webui/embeddings/p:\n",
            "Traceback (most recent call last):\n",
            "  File \"/content/stable-diffusion-webui/modules/safe.py\", line 135, in load_with_extra\n",
            "    check_pt(filename, extra_handler)\n",
            "  File \"/content/stable-diffusion-webui/modules/safe.py\", line 81, in check_pt\n",
            "    with zipfile.ZipFile(filename) as z:\n",
            "  File \"/usr/local/lib/python3.10/zipfile.py\", line 1249, in __init__\n",
            "    self.fp = io.open(file, filemode)\n",
            "IsADirectoryError: [Errno 21] Is a directory: '/content/stable-diffusion-webui/embeddings/p'\n",
            "\n",
            "\n",
            "The file may be malicious, so the program is not going to read it.\n",
            "You can skip this check with --disable-safe-unpickle commandline argument.\n",
            "\n",
            "\n",
            "Error loading emedding p:\n",
            "Traceback (most recent call last):\n",
            "  File \"/content/stable-diffusion-webui/modules/textual_inversion/textual_inversion.py\", line 134, in load_textual_inversion_embeddings\n",
            "    process_file(fullfn, fn)\n",
            "  File \"/content/stable-diffusion-webui/modules/textual_inversion/textual_inversion.py\", line 104, in process_file\n",
            "    if 'string_to_param' in data:\n",
            "TypeError: argument of type 'NoneType' is not iterable\n",
            "\n",
            "Loaded a total of 1 textual inversion embeddings.\n",
            "Embeddings: chizui-5000\n",
            "  0% 0/20 [00:00<?, ?it/s]\n",
            "  5% 1/20 [00:07<02:18,  7.30s/it]\n",
            " 10% 2/20 [00:07<00:56,  3.15s/it]\n",
            " 15% 3/20 [00:07<00:30,  1.82s/it]\n",
            " 20% 4/20 [00:08<00:19,  1.20s/it]\n",
            " 25% 5/20 [00:08<00:12,  1.17it/s]\n",
            " 30% 6/20 [00:08<00:09,  1.55it/s]\n",
            " 35% 7/20 [00:08<00:06,  1.95it/s]\n",
            " 40% 8/20 [00:08<00:05,  2.35it/s]\n",
            " 45% 9/20 [00:09<00:04,  2.71it/s]\n",
            " 50% 10/20 [00:09<00:03,  3.05it/s]\n",
            " 55% 11/20 [00:09<00:02,  3.32it/s]\n",
            " 60% 12/20 [00:09<00:02,  3.54it/s]\n",
            " 65% 13/20 [00:10<00:01,  3.70it/s]\n",
            " 70% 14/20 [00:10<00:01,  3.82it/s]\n",
            " 75% 15/20 [00:10<00:01,  3.93it/s]\n",
            " 80% 16/20 [00:10<00:00,  4.00it/s]\n",
            " 85% 17/20 [00:11<00:00,  4.04it/s]\n",
            " 90% 18/20 [00:11<00:00,  4.08it/s]\n",
            " 95% 19/20 [00:11<00:00,  4.11it/s]\n",
            "100% 20/20 [00:11<00:00,  1.69it/s]\n",
            "Total progress: 100% 20/20 [00:10<00:00,  1.97it/s]\n",
            "  0% 0/20 [00:00<?, ?it/s]\n",
            "  5% 1/20 [00:00<00:18,  1.05it/s]\n",
            " 10% 2/20 [00:01<00:09,  1.87it/s]\n",
            " 15% 3/20 [00:01<00:06,  2.50it/s]\n",
            " 20% 4/20 [00:01<00:05,  2.96it/s]\n",
            " 25% 5/20 [00:01<00:04,  3.28it/s]\n",
            " 30% 6/20 [00:02<00:03,  3.51it/s]\n",
            " 35% 7/20 [00:02<00:03,  3.71it/s]\n",
            " 40% 8/20 [00:02<00:03,  3.84it/s]\n",
            " 45% 9/20 [00:02<00:02,  3.90it/s]\n",
            " 50% 10/20 [00:03<00:02,  3.97it/s]\n",
            " 55% 11/20 [00:03<00:02,  4.02it/s]\n",
            " 60% 12/20 [00:03<00:01,  4.06it/s]\n",
            " 65% 13/20 [00:03<00:01,  4.06it/s]\n",
            " 70% 14/20 [00:04<00:01,  4.07it/s]\n",
            " 75% 15/20 [00:04<00:01,  4.10it/s]\n",
            " 80% 16/20 [00:04<00:00,  4.10it/s]\n",
            " 85% 17/20 [00:04<00:00,  4.10it/s]\n",
            " 90% 18/20 [00:05<00:00,  4.10it/s]\n",
            " 95% 19/20 [00:05<00:00,  4.11it/s]\n",
            "100% 20/20 [00:05<00:00,  3.59it/s]\n",
            "Total progress: 100% 20/20 [00:05<00:00,  3.51it/s]\n"
          ]
        }
      ],
      "source": [
        "%cd /content/stable-diffusion-webui\n",
        "!COMMANDLINE_ARGS=\"--share --gradio-debug --medvram\" REQS_FILE=\"requirements.txt\" python launch.py"
      ]
    },
    {
      "cell_type": "markdown",
      "metadata": {
        "id": "aCtJffM2ZE06"
      },
      "source": [
        "用于在本地驱动器上下载的Zip图像（单击左侧的文件夹图标，即{x}下方的文件夹图标）"
      ]
    },
    {
      "cell_type": "code",
      "execution_count": 7,
      "metadata": {
        "id": "TmRqNyiAZCHu",
        "outputId": "f2ed125c-9db9-417a-8ebf-6cce3e774f87",
        "colab": {
          "base_uri": "https://localhost:8080/"
        }
      },
      "outputs": [
        {
          "output_type": "stream",
          "name": "stdout",
          "text": [
            "\tzip warning: name not matched: /content/stable-diffusion-webui/outputs\n",
            "\n",
            "zip error: Nothing to do! (try: zip -r /content/stable-diffusion-webui . -i /content/stable-diffusion-webui/outputs)\n"
          ]
        }
      ],
      "source": [
        "!zip -r /content/stable-diffusion-webui /content/stable-diffusion-webui/outputs "
      ]
    },
    {
      "cell_type": "code",
      "source": [
        "from google.colab import drive\n",
        "drive.mount('/content/drive')"
      ],
      "metadata": {
        "id": "br1TPsXPQB7s",
        "outputId": "172cede2-9a5d-4fd6-d4fc-8e852fc42832",
        "colab": {
          "base_uri": "https://localhost:8080/"
        }
      },
      "execution_count": 8,
      "outputs": [
        {
          "output_type": "stream",
          "name": "stdout",
          "text": [
            "Mounted at /content/drive\n"
          ]
        }
      ]
    },
    {
      "cell_type": "markdown",
      "metadata": {
        "id": "tcslU-S2ZNr9"
      },
      "source": [
        "将图像保存到Google云端硬盘 **Warning: this will cause google to scan your drive, so if you intend to use this and worry about that kind of stuff, probablly just set this up on a clean account that's just for this colab**"
      ]
    },
    {
      "cell_type": "code",
      "execution_count": 9,
      "metadata": {
        "id": "-N0lnu-TZOTW",
        "outputId": "df0cfe8f-639f-46a8-f662-fdc4ed086584",
        "colab": {
          "base_uri": "https://localhost:8080/"
        }
      },
      "outputs": [
        {
          "output_type": "stream",
          "name": "stdout",
          "text": [
            "Drive already mounted at /content/drive; to attempt to forcibly remount, call drive.mount(\"/content/drive\", force_remount=True).\n",
            "cp: cannot stat '/content/stable-diffusion-webui/textual_inversion': No such file or directory\n"
          ]
        }
      ],
      "source": [
        "from google.colab import drive # type: ignore\n",
        "\n",
        "try:\n",
        "   drive_path = \"/content/drive\"\n",
        "   drive.mount(drive_path,force_remount=False)\n",
        "except:\n",
        "   print(\"...error mounting drive or with drive path variables\")\n",
        "\n",
        "!cp -r \"/content/stable-diffusion-webui/textual_inversion\" \"/content/drive/MyDrive\""
      ]
    }
  ],
  "metadata": {
    "accelerator": "GPU",
    "colab": {
      "provenance": [],
      "include_colab_link": true
    },
    "gpuClass": "standard",
    "kernelspec": {
      "display_name": "Python 3.10.6 64-bit",
      "language": "python",
      "name": "python3"
    },
    "language_info": {
      "name": "python",
      "version": "3.10.6"
    },
    "vscode": {
      "interpreter": {
        "hash": "301a17a29b57d3836b7901af1621afd6d2b1f2298b9c7949191147cf2fea93e3"
      }
    }
  },
  "nbformat": 4,
  "nbformat_minor": 0
}