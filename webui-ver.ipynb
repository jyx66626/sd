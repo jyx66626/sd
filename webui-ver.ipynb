{
  "cells": [
    {
      "cell_type": "markdown",
      "metadata": {
        "id": "view-in-github",
        "colab_type": "text"
      },
      "source": [
        "<a href=\"https://colab.research.google.com/github/jyx66626/sd/blob/main/webui-ver.ipynb\" target=\"_parent\"><img src=\"https://colab.research.google.com/assets/colab-badge.svg\" alt=\"Open In Colab\"/></a>"
      ]
    },
    {
      "cell_type": "markdown",
      "metadata": {
        "id": "OHCtG9MT0jLq"
      },
      "source": [
        "克隆webui仓库"
      ]
    },
    {
      "cell_type": "code",
      "execution_count": 1,
      "metadata": {
        "colab": {
          "base_uri": "https://localhost:8080/"
        },
        "id": "sBbcB4vwj_jm",
        "outputId": "ffc60406-75da-413f-9cee-34ef472d1de1"
      },
      "outputs": [
        {
          "output_type": "stream",
          "name": "stdout",
          "text": [
            "Cloning into 'stable-diffusion-webui'...\n",
            "remote: Enumerating objects: 11698, done.\u001b[K\n",
            "remote: Counting objects: 100% (100/100), done.\u001b[K\n",
            "remote: Compressing objects: 100% (69/69), done.\u001b[K\n",
            "remote: Total 11698 (delta 51), reused 53 (delta 31), pack-reused 11598\u001b[K\n",
            "Receiving objects: 100% (11698/11698), 24.05 MiB | 15.90 MiB/s, done.\n",
            "Resolving deltas: 100% (8161/8161), done.\n",
            "/content/stable-diffusion-webui\n"
          ]
        }
      ],
      "source": [
        "!git clone https://github.com/AUTOMATIC1111/stable-diffusion-webui\n",
        "%cd stable-diffusion-webui"
      ]
    },
    {
      "cell_type": "code",
      "execution_count": 3,
      "metadata": {
        "id": "DkeGz-Rn8o8c",
        "outputId": "0d43f587-35f1-4d70-9f6f-f5ce754707db",
        "colab": {
          "base_uri": "https://localhost:8080/"
        }
      },
      "outputs": [
        {
          "output_type": "stream",
          "name": "stdout",
          "text": [
            "/content/stable-diffusion-webui/extensions\n",
            "Cloning into 'extensions/tagger'...\n",
            "remote: Enumerating objects: 150, done.\u001b[K\n",
            "remote: Counting objects: 100% (150/150), done.\u001b[K\n",
            "remote: Compressing objects: 100% (84/84), done.\u001b[K\n",
            "remote: Total 150 (delta 65), reused 123 (delta 38), pack-reused 0\u001b[K\n",
            "Receiving objects: 100% (150/150), 1.03 MiB | 36.25 MiB/s, done.\n",
            "Resolving deltas: 100% (65/65), done.\n"
          ]
        }
      ],
      "source": [
        "#安装tag识别插件\n",
        "%cd /content/stable-diffusion-webui/extensions\n",
        "!git clone https://github.com/toriato/stable-diffusion-webui-wd14-tagger.git extensions/tagger"
      ]
    },
    {
      "cell_type": "code",
      "execution_count": 4,
      "metadata": {
        "colab": {
          "base_uri": "https://localhost:8080/"
        },
        "id": "Xenyyf0DOfyi",
        "outputId": "c9f3d3a9-aa5b-4eac-b450-0b0d5d588c0c"
      },
      "outputs": [
        {
          "output_type": "stream",
          "name": "stdout",
          "text": [
            "--2022-12-03 07:49:10--  https://repo.anaconda.com/miniconda/Miniconda3-latest-Linux-x86_64.sh\n",
            "Resolving repo.anaconda.com (repo.anaconda.com)... 104.16.130.3, 104.16.131.3, 2606:4700::6810:8303, ...\n",
            "Connecting to repo.anaconda.com (repo.anaconda.com)|104.16.130.3|:443... connected.\n",
            "HTTP request sent, awaiting response... 200 OK\n",
            "Length: 76607678 (73M) [application/x-sh]\n",
            "Saving to: ‘Miniconda3-latest-Linux-x86_64.sh’\n",
            "\n",
            "Miniconda3-latest-L 100%[===================>]  73.06M   280MB/s    in 0.3s    \n",
            "\n",
            "2022-12-03 07:49:10 (280 MB/s) - ‘Miniconda3-latest-Linux-x86_64.sh’ saved [76607678/76607678]\n",
            "\n",
            "PREFIX=/usr/local\n",
            "Unpacking payload ...\n",
            "Collecting package metadata (current_repodata.json): - \b\b\\ \b\bdone\n",
            "Solving environment: / \b\b- \b\b\\ \b\bdone\n",
            "\n",
            "## Package Plan ##\n",
            "\n",
            "  environment location: /usr/local\n",
            "\n",
            "  added / updated specs:\n",
            "    - _libgcc_mutex==0.1=main\n",
            "    - _openmp_mutex==4.5=1_gnu\n",
            "    - brotlipy==0.7.0=py39h27cfd23_1003\n",
            "    - ca-certificates==2022.3.29=h06a4308_1\n",
            "    - certifi==2021.10.8=py39h06a4308_2\n",
            "    - cffi==1.15.0=py39hd667e15_1\n",
            "    - charset-normalizer==2.0.4=pyhd3eb1b0_0\n",
            "    - colorama==0.4.4=pyhd3eb1b0_0\n",
            "    - conda-content-trust==0.1.1=pyhd3eb1b0_0\n",
            "    - conda-package-handling==1.8.1=py39h7f8727e_0\n",
            "    - conda==4.12.0=py39h06a4308_0\n",
            "    - cryptography==36.0.0=py39h9ce1e76_0\n",
            "    - idna==3.3=pyhd3eb1b0_0\n",
            "    - ld_impl_linux-64==2.35.1=h7274673_9\n",
            "    - libffi==3.3=he6710b0_2\n",
            "    - libgcc-ng==9.3.0=h5101ec6_17\n",
            "    - libgomp==9.3.0=h5101ec6_17\n",
            "    - libstdcxx-ng==9.3.0=hd4cf53a_17\n",
            "    - ncurses==6.3=h7f8727e_2\n",
            "    - openssl==1.1.1n=h7f8727e_0\n",
            "    - pip==21.2.4=py39h06a4308_0\n",
            "    - pycosat==0.6.3=py39h27cfd23_0\n",
            "    - pycparser==2.21=pyhd3eb1b0_0\n",
            "    - pyopenssl==22.0.0=pyhd3eb1b0_0\n",
            "    - pysocks==1.7.1=py39h06a4308_0\n",
            "    - python==3.9.12=h12debd9_0\n",
            "    - readline==8.1.2=h7f8727e_1\n",
            "    - requests==2.27.1=pyhd3eb1b0_0\n",
            "    - ruamel_yaml==0.15.100=py39h27cfd23_0\n",
            "    - setuptools==61.2.0=py39h06a4308_0\n",
            "    - six==1.16.0=pyhd3eb1b0_1\n",
            "    - sqlite==3.38.2=hc218d9a_0\n",
            "    - tk==8.6.11=h1ccaba5_0\n",
            "    - tqdm==4.63.0=pyhd3eb1b0_0\n",
            "    - tzdata==2022a=hda174b7_0\n",
            "    - urllib3==1.26.8=pyhd3eb1b0_0\n",
            "    - wheel==0.37.1=pyhd3eb1b0_0\n",
            "    - xz==5.2.5=h7b6447c_0\n",
            "    - yaml==0.2.5=h7b6447c_0\n",
            "    - zlib==1.2.12=h7f8727e_1\n",
            "\n",
            "\n",
            "The following NEW packages will be INSTALLED:\n",
            "\n",
            "  _libgcc_mutex      pkgs/main/linux-64::_libgcc_mutex-0.1-main\n",
            "  _openmp_mutex      pkgs/main/linux-64::_openmp_mutex-4.5-1_gnu\n",
            "  brotlipy           pkgs/main/linux-64::brotlipy-0.7.0-py39h27cfd23_1003\n",
            "  ca-certificates    pkgs/main/linux-64::ca-certificates-2022.3.29-h06a4308_1\n",
            "  certifi            pkgs/main/linux-64::certifi-2021.10.8-py39h06a4308_2\n",
            "  cffi               pkgs/main/linux-64::cffi-1.15.0-py39hd667e15_1\n",
            "  charset-normalizer pkgs/main/noarch::charset-normalizer-2.0.4-pyhd3eb1b0_0\n",
            "  colorama           pkgs/main/noarch::colorama-0.4.4-pyhd3eb1b0_0\n",
            "  conda              pkgs/main/linux-64::conda-4.12.0-py39h06a4308_0\n",
            "  conda-content-tru~ pkgs/main/noarch::conda-content-trust-0.1.1-pyhd3eb1b0_0\n",
            "  conda-package-han~ pkgs/main/linux-64::conda-package-handling-1.8.1-py39h7f8727e_0\n",
            "  cryptography       pkgs/main/linux-64::cryptography-36.0.0-py39h9ce1e76_0\n",
            "  idna               pkgs/main/noarch::idna-3.3-pyhd3eb1b0_0\n",
            "  ld_impl_linux-64   pkgs/main/linux-64::ld_impl_linux-64-2.35.1-h7274673_9\n",
            "  libffi             pkgs/main/linux-64::libffi-3.3-he6710b0_2\n",
            "  libgcc-ng          pkgs/main/linux-64::libgcc-ng-9.3.0-h5101ec6_17\n",
            "  libgomp            pkgs/main/linux-64::libgomp-9.3.0-h5101ec6_17\n",
            "  libstdcxx-ng       pkgs/main/linux-64::libstdcxx-ng-9.3.0-hd4cf53a_17\n",
            "  ncurses            pkgs/main/linux-64::ncurses-6.3-h7f8727e_2\n",
            "  openssl            pkgs/main/linux-64::openssl-1.1.1n-h7f8727e_0\n",
            "  pip                pkgs/main/linux-64::pip-21.2.4-py39h06a4308_0\n",
            "  pycosat            pkgs/main/linux-64::pycosat-0.6.3-py39h27cfd23_0\n",
            "  pycparser          pkgs/main/noarch::pycparser-2.21-pyhd3eb1b0_0\n",
            "  pyopenssl          pkgs/main/noarch::pyopenssl-22.0.0-pyhd3eb1b0_0\n",
            "  pysocks            pkgs/main/linux-64::pysocks-1.7.1-py39h06a4308_0\n",
            "  python             pkgs/main/linux-64::python-3.9.12-h12debd9_0\n",
            "  readline           pkgs/main/linux-64::readline-8.1.2-h7f8727e_1\n",
            "  requests           pkgs/main/noarch::requests-2.27.1-pyhd3eb1b0_0\n",
            "  ruamel_yaml        pkgs/main/linux-64::ruamel_yaml-0.15.100-py39h27cfd23_0\n",
            "  setuptools         pkgs/main/linux-64::setuptools-61.2.0-py39h06a4308_0\n",
            "  six                pkgs/main/noarch::six-1.16.0-pyhd3eb1b0_1\n",
            "  sqlite             pkgs/main/linux-64::sqlite-3.38.2-hc218d9a_0\n",
            "  tk                 pkgs/main/linux-64::tk-8.6.11-h1ccaba5_0\n",
            "  tqdm               pkgs/main/noarch::tqdm-4.63.0-pyhd3eb1b0_0\n",
            "  tzdata             pkgs/main/noarch::tzdata-2022a-hda174b7_0\n",
            "  urllib3            pkgs/main/noarch::urllib3-1.26.8-pyhd3eb1b0_0\n",
            "  wheel              pkgs/main/noarch::wheel-0.37.1-pyhd3eb1b0_0\n",
            "  xz                 pkgs/main/linux-64::xz-5.2.5-h7b6447c_0\n",
            "  yaml               pkgs/main/linux-64::yaml-0.2.5-h7b6447c_0\n",
            "  zlib               pkgs/main/linux-64::zlib-1.2.12-h7f8727e_1\n",
            "\n",
            "\n",
            "Preparing transaction: / \b\b- \b\b\\ \b\bdone\n",
            "Executing transaction: / \b\b- \b\b\\ \b\b| \b\b/ \b\b- \b\b\\ \b\b| \b\b/ \b\b- \b\b\\ \b\b| \b\b/ \b\b- \b\b\\ \b\b| \b\b/ \b\b- \b\bdone\n",
            "installation finished.\n",
            "WARNING:\n",
            "    You currently have a PYTHONPATH environment variable set. This may cause\n",
            "    unexpected behavior when running the Python interpreter in Miniconda3.\n",
            "    For best results, please verify that your PYTHONPATH only points to\n",
            "    directories of packages that are compatible with the Python interpreter\n",
            "    in Miniconda3: /usr/local\n"
          ]
        }
      ],
      "source": [
        "#安装依赖\n",
        "import sys\n",
        "!wget https://repo.anaconda.com/miniconda/Miniconda3-latest-Linux-x86_64.sh\n",
        "!chmod +x Miniconda3-latest-Linux-x86_64.sh\n",
        "!bash ./Miniconda3-latest-Linux-x86_64.sh -b -f -p /usr/local\n",
        "sys.path.append('/usr/local/lib/python3.7/site-packages/')\n",
        "!rm Miniconda3-latest-Linux-x86_64.sh"
      ]
    },
    {
      "cell_type": "code",
      "execution_count": 13,
      "metadata": {
        "colab": {
          "base_uri": "https://localhost:8080/"
        },
        "id": "T5VeSNfTOkNC",
        "outputId": "e66a3092-298e-4885-a63f-d1284784f494"
      },
      "outputs": [
        {
          "output_type": "stream",
          "name": "stdout",
          "text": [
            "Reading package lists... Done\n",
            "Building dependency tree       \n",
            "Reading state information... Done\n",
            "aria2 is already the newest version (1.33.1-1).\n",
            "The following package was automatically installed and is no longer required:\n",
            "  libnvidia-common-460\n",
            "Use 'sudo apt autoremove' to remove it.\n",
            "0 upgraded, 0 newly installed, 0 to remove and 7 not upgraded.\n",
            "Reading package lists... Done\n",
            "Building dependency tree       \n",
            "Reading state information... Done\n",
            "file is already the newest version (1:5.32-2ubuntu0.4).\n",
            "The following package was automatically installed and is no longer required:\n",
            "  libnvidia-common-460\n",
            "Use 'sudo apt autoremove' to remove it.\n",
            "0 upgraded, 0 newly installed, 0 to remove and 7 not upgraded.\n",
            "mkdir: cannot create directory ‘/content/time’: File exists\n",
            "fatal: destination path '/content/time' already exists and is not an empty directory.\n",
            "/content/time\n",
            "/content/time\n",
            "total 36\n",
            "-rw-r--r-- 1 root root  279 Dec  3 07:49 CHANGES.rst\n",
            "-rw-r--r-- 1 root root 1082 Dec  3 07:49 LICENSE.txt\n",
            "-rw-r--r-- 1 root root  222 Dec  3 07:49 Makefile\n",
            "-rw-r--r-- 1 root root   14 Dec  3 07:49 MANIFEST.in\n",
            "-rw-r--r-- 1 root root 2804 Dec  3 07:49 README.rst\n",
            "-rw-r--r-- 1 root root 1047 Dec  3 07:49 setup.py\n",
            "drwxr-xr-x 2 root root 4096 Dec  3 07:49 tests\n",
            "drwxr-xr-x 2 root root 4096 Dec  3 07:49 timeout_decorator\n",
            "-rw-r--r-- 1 root root  289 Dec  3 07:49 tox.ini\n"
          ]
        }
      ],
      "source": [
        "#安装下载工具\n",
        "!sudo apt-get install aria2\n",
        "!sudo apt-get install file\n",
        "!sudo apt-get installl unzip\n",
        "\n",
        "!mkdir /content/time\n",
        "!git clone https://github.com/pnpnpn/timeout-decorator.git /content/time\n",
        "%cd /content/time\n",
        "!pwd\n",
        "!ls -l"
      ]
    },
    {
      "cell_type": "code",
      "execution_count": 28,
      "metadata": {
        "colab": {
          "base_uri": "https://localhost:8080/"
        },
        "id": "k1Dt3cW6QlQ9",
        "outputId": "1ef288db-0d6f-4cab-87ad-6f5b9af72c8e"
      },
      "outputs": [
        {
          "metadata": {
            "tags": null
          },
          "name": "stdout",
          "output_type": "stream",
          "text": [
            "/content/stable-diffusion-webui/models/Stable-diffusion\n",
            "\n",
            "12/03 08:34:26 [\u001b[1;32mNOTICE\u001b[0m] Downloading 1 item(s)\n",
            "\n",
            "12/03 08:34:27 [\u001b[1;32mNOTICE\u001b[0m] CUID#7 - Redirecting to https://cdn-lfs.huggingface.co/repos/83/8e/838e890bec8fddfdbc93ceb156ced8b290b4de1f1116c58b34d3af4c9f4fcea7/4afab9126057859b34d13d6207d90221d0b017b7580469ea70cee37757a29edd?response-content-disposition=attachment%3B%20filename%3D%22wd-v1-3-float16.ckpt%22&Expires=1670310368&Policy=eyJTdGF0ZW1lbnQiOlt7IlJlc291cmNlIjoiaHR0cHM6Ly9jZG4tbGZzLmh1Z2dpbmdmYWNlLmNvL3JlcG9zLzgzLzhlLzgzOGU4OTBiZWM4ZmRkZmRiYzkzY2ViMTU2Y2VkOGIyOTBiNGRlMWYxMTE2YzU4YjM0ZDNhZjRjOWY0ZmNlYTcvNGFmYWI5MTI2MDU3ODU5YjM0ZDEzZDYyMDdkOTAyMjFkMGIwMTdiNzU4MDQ2OWVhNzBjZWUzNzc1N2EyOWVkZD9yZXNwb25zZS1jb250ZW50LWRpc3Bvc2l0aW9uPWF0dGFjaG1lbnQlM0IlMjBmaWxlbmFtZSUzRCUyMndkLXYxLTMtZmxvYXQxNi5ja3B0JTIyIiwiQ29uZGl0aW9uIjp7IkRhdGVMZXNzVGhhbiI6eyJBV1M6RXBvY2hUaW1lIjoxNjcwMzEwMzY4fX19XX0_&Signature=biI3vAHkChK6JiGYZcs7ybJCulVgxT83KtP1J3gXrTIX6dCZPgCbQCa5giPpdVpoB5rl4ZHP641MrtHledTX6-BgZFSGFpGq4T85KhOM-e2L78VwUGZcgag-2w2U2hFOgA0ndXdJqQVrQBrZoIfeZDrmML7uYrf~tpPI8r1IAI1Kq6D2Q1745XUeU-I0~2-fsUO5BOE0ta0d~Z7D7TyzuIa7CG8DsEaWYaUfoXCqCIvGSYqX1XhLOtx35FCQPr29oA6tgaFbzvqm8aeSM2A0I92fiEB98erfYQLFL9V7ALaHHGqhpwpoir7F8487aXX9K3AbZ7MeDjxLmVQOUc0WIQ__&Key-Pair-Id=KVTP0A1DKRTAX\n",
            "\u001b[0m\n",
            "12/03 08:34:38 [\u001b[1;32mNOTICE\u001b[0m] Download complete: /content/stable-diffusion-webui/models/Stable-diffusion/wd-v1-3-float16.ckpt\n",
            "\n",
            "Download Results:\n",
            "gid   |stat|avg speed  |path/URI\n",
            "======+====+===========+=======================================================\n",
            "f101e2|\u001b[1;32mOK\u001b[0m  |   196MiB/s|/content/stable-diffusion-webui/models/Stable-diffusion/wd-v1-3-float16.ckpt\n",
            "\n",
            "Status Legend:\n",
            "(OK):download completed.\n",
            "\n",
            "12/03 08:34:38 [\u001b[1;32mNOTICE\u001b[0m] Downloading 1 item(s)\n",
            "\n",
            "12/03 08:34:38 [\u001b[1;32mNOTICE\u001b[0m] IPv4 DHT: listening on UDP port 6964\n",
            "\n",
            "12/03 08:34:38 [\u001b[1;32mNOTICE\u001b[0m] IPv4 BitTorrent: listening on TCP port 6994\n",
            "\n",
            "12/03 08:34:38 [\u001b[1;31mERROR\u001b[0m] IPv6 BitTorrent: failed to bind TCP port 6994\n",
            "Exception: [SocketCore.cc:312] errorCode=1 Failed to bind a socket, cause: Name or service not known\n",
            "\u001b[0m\n",
            "12/03 08:34:41 [\u001b[1;32mNOTICE\u001b[0m] Download complete: [MEMORY][METADATA]Anything-V3.0-fp32.zip\n",
            " *** Download Progress Summary as of Sat Dec  3 08:35:38 2022 *** \n",
            "=\n",
            "[#427254 1.8GiB/4.3GiB(42%) CN:32 SD:14 DL:38MiB ETA:1m7s]\n",
            "FILE: /content/stable-diffusion-webui/models/Stable-diffusion/Anything-V3.0-fp32.zip\n",
            "-\n",
            "\n",
            " *** Download Progress Summary as of Sat Dec  3 08:36:39 2022 *** \n",
            "=\n",
            "[#427254 SEED(0.0) CN:29 SD:0]\n",
            "FILE: /content/stable-diffusion-webui/models/Stable-diffusion/Anything-V3.0-fp32.zip\n",
            "-\n",
            "\n",
            " *** Download Progress Summary as of Sat Dec  3 08:37:39 2022 *** \n",
            "=\n",
            "[#427254 SEED(0.0) CN:0 SD:0]\n",
            "FILE: /content/stable-diffusion-webui/models/Stable-diffusion/Anything-V3.0-fp32.zip\n",
            "-\n",
            "\n",
            " *** Download Progress Summary as of Sat Dec  3 08:38:40 2022 *** \n",
            "=\n",
            "[#427254 SEED(0.0) CN:21 SD:0]\n",
            "FILE: /content/stable-diffusion-webui/models/Stable-diffusion/Anything-V3.0-fp32.zip\n",
            "-\n",
            "\n",
            "\u001b[0m\n",
            "12/03 08:38:53 [\u001b[1;32mNOTICE\u001b[0m] Shutdown sequence commencing... Press Ctrl-C again for emergency shutdown.\n",
            "\n",
            "12/03 08:38:54 [\u001b[1;32mNOTICE\u001b[0m] Download complete: /content/stable-diffusion-webui/models/Stable-diffusion/Anything-V3.0-fp32.zip\n",
            "\n",
            "12/03 08:38:54 [\u001b[1;32mNOTICE\u001b[0m] Your share ratio was 0.0, uploaded/downloaded=0B/4.3GiB\n",
            "\n",
            "Download Results:\n",
            "gid   |stat|avg speed  |path/URI\n",
            "======+====+===========+=======================================================\n",
            "f932a9|\u001b[1;32mOK\u001b[0m  |       0B/s|[MEMORY][METADATA]Anything-V3.0-fp32.zip\n",
            "427254|\u001b[1;32mOK\u001b[0m  |    42MiB/s|/content/stable-diffusion-webui/models/Stable-diffusion/Anything-V3.0-fp32.zip\n",
            "\n",
            "Status Legend:\n",
            "(OK):download completed.\n",
            "Archive:  Anything-V3.0-fp32.zip\n",
            "  inflating: Anything-V3.0-pruned-fp32.ckpt  \n",
            "  inflating: Anything-V3.0.vae.pt    \n"
          ]
        }
      ],
      "source": [
        "%cd /content/stable-diffusion-webui/models/Stable-diffusion/\n",
        "#官方模型\n",
        "# !aira2c -o offical_model.ckpt \"magnet:?xt=urn:btih:2daef5b5f63a16a9af9169a529b1a773fc452637&dn=v1-5-pruned-emaonly.ckpt&tr=udp%3a%2f%2ftracker.opentrackr.org%3a1337%2fannounce&tr=udp%3a%2f%2f9.rarbg.com%3a2810%2fannounce&tr=udp%3a%2f%2ftracker.openbittorrent.com%3a6969%2fannounce&tr=udp%3a%2f%2fopentracker.i2p.rocks%3a6969%2fannounce&tr=https%3a%2f%2fopentracker.i2p.rocks%3a443%2fannounce&tr=http%3a%2f%2ftracker.openbittorrent.com%3a80%2fannounce&tr=udp%3a%2f%2ftracker.torrent.eu.org%3a451%2fannounce&tr=udp%3a%2f%2fopen.stealth.si%3a80%2fannounce&tr=udp%3a%2f%2fvibe.sleepyinternetfun.xyz%3a1738%2fannounce&tr=udp%3a%2f%2ftracker2.dler.org%3a80%2fannounce&tr=udp%3a%2f%2ftracker1.bt.moack.co.kr%3a80%2fannounce&tr=udp%3a%2f%2ftracker.zemoj.com%3a6969%2fannounce&tr=udp%3a%2f%2ftracker.tiny-vps.com%3a6969%2fannounce&tr=udp%3a%2f%2ftracker.theoks.net%3a6969%2fannounce&tr=udp%3a%2f%2ftracker.publictracker.xyz%3a6969%2fannounce&tr=udp%3a%2f%2ftracker.monitorit4.me%3a6969%2fannounce&tr=udp%3a%2f%2ftracker.moeking.me%3a6969%2fannounce&tr=udp%3a%2f%2ftracker.lelux.fi%3a6969%2fannounce&tr=udp%3a%2f%2ftracker.dler.org%3a6969%2fannounce&tr=udp%3a%2f%2ftracker.army%3a6969%2fannounce\"\n",
        "!aria2c https://huggingface.co/hakurei/waifu-diffusion-v1-3/resolve/main/wd-v1-3-float16.ckpt\n",
        "!aria2c --seed-time=0 \"magnet:?xt=urn:btih:d9db662ab5ace77004b3348c23c9381380c27156&dn=Anything-V3.0-fp32.zip&tr=udp%3a%2f%2ftracker.opentrackr.org%3a1337%2fannounce&tr=udp%3a%2f%2f9.rarbg.com%3a2810%2fannounce&tr=udp%3a%2f%2fopentracker.i2p.rocks%3a6969%2fannounce&tr=https%3a%2f%2fopentracker.i2p.rocks%3a443%2fannounce&tr=udp%3a%2f%2ftracker.torrent.eu.org%3a451%2fannounce&tr=udp%3a%2f%2fopen.stealth.si%3a80%2fannounce&tr=http%3a%2f%2ftracker.openbittorrent.com%3a80%2fannounce&tr=udp%3a%2f%2fvibe.sleepyinternetfun.xyz%3a1738%2fannounce&tr=udp%3a%2f%2ftracker1.bt.moack.co.kr%3a80%2fannounce&tr=udp%3a%2f%2ftracker.zerobytes.xyz%3a1337%2fannounce&tr=udp%3a%2f%2ftracker.tiny-vps.com%3a6969%2fannounce&tr=udp%3a%2f%2ftracker.theoks.net%3a6969%2fannounce&tr=udp%3a%2f%2ftracker.swateam.org.uk%3a2710%2fannounce&tr=udp%3a%2f%2ftracker.publictracker.xyz%3a6969%2fannounce&tr=udp%3a%2f%2ftracker.monitorit4.me%3a6969%2fannounce&tr=udp%3a%2f%2ftracker.moeking.me%3a6969%2fannounce&tr=udp%3a%2f%2ftracker.encrypted-data.xyz%3a1337%2fannounce&tr=udp%3a%2f%2ftracker.dler.org%3a6969%2fannounce&tr=udp%3a%2f%2ftracker.army%3a6969%2fannounce&tr=udp%3a%2f%2ftracker.altrosky.nl%3a6969%2fannounce\"\n",
        "!unzip Anything-V3.0-fp32.zip\n",
        "!rm -f Anything-V3.0-fp32.zip\n",
        "%cd /content/stable-diffusion-webui/models/VAE\n",
        "!aria2c https://huggingface.co/hakurei/waifu-diffusion-v1-4/resolve/main/vae/kl-f8-anime2.ckpt"
      ]
    },
    {
      "cell_type": "code",
      "execution_count": 7,
      "metadata": {
        "colab": {
          "base_uri": "https://localhost:8080/"
        },
        "id": "ZzRNMT42Gw_p",
        "outputId": "847217b1-7d0f-4d53-a9a5-432634701cbb"
      },
      "outputs": [
        {
          "output_type": "stream",
          "name": "stdout",
          "text": [
            "mkdir: cannot create directory ‘/’: File exists\n",
            "mkdir: cannot create directory ‘content/stable-diffusion-webui/embeddings’: No such file or directory\n",
            "/content/stable-diffusion-webui/models/Stable-diffusion\n",
            "  % Total    % Received % Xferd  Average Speed   Time    Time     Time  Current\n",
            "                                 Dload  Upload   Total   Spent    Left  Speed\n",
            "100 1004M  100 1004M    0     0   126M      0  0:00:07  0:00:07 --:--:--  132M\n"
          ]
        }
      ],
      "source": [
        "!mkdir -p  /content/stable-diffusion-webui/models/hypernetworks\n",
        "!mkdir - p / content/stable-diffusion-webui/embeddings\n",
        "%cd /content/stable-diffusion-webui/models/Stable-diffusion/\n",
        "\n",
        "# 7G animefull-final-latest (may not work)\n",
        "# !gdown 17WWd6KEsBj7D_0TyGp8aXHQDlchYVs1a -O /content/stable-diffusion-webui/models/Stable-diffusion/model.ckpt\n",
        "\n",
        "# 4G animefull-final-pruned\n",
        "# !gdown 1d3f2fvN2gLRocBahZrXe_v1EEHuqpUzT -O /content/stable-diffusion-webui/models/Stable-diffusion/model.ckpt\n",
        "\n",
        "# 4G animefull-final-pruned (backup)\n",
        "#!aria2c -o model.ckpt https://cloudflare-ipfs.com/ipfs/bafybeicpamreyp2bsocyk3hpxr7ixb2g2rnrequub3j2ahrkdxbvfbvjc4/model.ckpt\n",
        "\n",
        "# Install VAE Weights (optional)\n",
        "# !curl -Lo model.vae.pt https://cloudflare-ipfs.com/ipfs/bafybeiccldswdd3wvg57jhclcq53lvsc6gizasiblwayvhlv6eq4wow7wu/animevae.pt \n",
        "\n",
        "# Install hypernetwork （optional)\n",
        "!curl -L https://cloudflare-ipfs.com/ipfs/bafybeiduanx2b3mcvxlwr66igcwnpfmk3nc3qgxlpwh6oq6m6pxii3f77e/_modules.tar | tar x -C /content/stable-diffusion-webui/models/hypernetworks\n",
        "\n",
        "# Install custom embeddings (modified, optional)\n",
        "# !curl -L https://cloudflare-ipfs.com/ipfs/bafybeie3hdjchxs5tz4n75bos53nhcklslguxchdurc2ynrzcfv2kwyklu/embeddings.tar | tar x -C /content/stable-diffusion-webui/embeddings"
      ]
    },
    {
      "cell_type": "markdown",
      "metadata": {
        "id": "xt8lbdmC04ox"
      },
      "source": [
        "启动 web ui. 您将获得一个链接 nnn.gradio.app, 访问它.\n",
        "\n",
        "命令行参数是:\n",
        "  - `--share` - 创建在线 gradio.app 链接\n",
        "  - `--gradio-debug` - 将输出打印到控制台\n",
        "  - `--gradio-auth me:qwerty` - 添加身份验证到 gradio：用户名 me，密码 qwerty"
      ]
    },
    {
      "cell_type": "code",
      "execution_count": 30,
      "metadata": {
        "colab": {
          "base_uri": "https://localhost:8080/"
        },
        "id": "R-xAdMA5wxXd",
        "outputId": "3bc52941-f4a4-4bb2-9170-0ac6d0001716"
      },
      "outputs": [
        {
          "output_type": "stream",
          "name": "stdout",
          "text": [
            "/content/stable-diffusion-webui\n",
            "Python 3.9.12 (main, Apr  5 2022, 06:56:58) \n",
            "[GCC 7.5.0]\n",
            "Commit hash: ce049c471b4a1d22f5a8fe8f527788edcf934eda\n",
            "Installing requirements for Web UI\n",
            "Launching Web UI with arguments: --share --gradio-debug --medvram --gradio-auth 1111:1111\n",
            "WARNING:root:Triton is not available, some optimizations will not be enabled.\n",
            "Error No module named 'triton'\n",
            "LatentDiffusion: Running in eps-prediction mode\n",
            "DiffusionWrapper has 859.52 M params.\n",
            "Loading weights [84692140] from /content/stable-diffusion-webui/models/Stable-diffusion/wd-v1-3-float16.ckpt\n",
            "Applying cross attention optimization (Doggettx).\n",
            "Model loaded.\n",
            "Loaded a total of 0 textual inversion embeddings.\n",
            "Embeddings: \n",
            "Running on local URL:  http://127.0.0.1:7860\n",
            "Running on public URL: https://a93ad5d4829bdd06.gradio.app\n",
            "\n",
            "This share link expires in 72 hours. For free permanent hosting and GPU upgrades (NEW!), check out Spaces: https://huggingface.co/spaces\n",
            "  0% 0/20 [00:00<?, ?it/s]\n",
            "  5% 1/20 [00:05<01:52,  5.93s/it]\n",
            " 10% 2/20 [00:06<00:46,  2.58s/it]\n",
            " 15% 3/20 [00:06<00:25,  1.51s/it]\n",
            " 20% 4/20 [00:06<00:16,  1.01s/it]\n",
            " 25% 5/20 [00:06<00:11,  1.36it/s]\n",
            " 30% 6/20 [00:07<00:07,  1.77it/s]\n",
            " 35% 7/20 [00:07<00:05,  2.18it/s]\n",
            " 40% 8/20 [00:07<00:04,  2.57it/s]\n",
            " 45% 9/20 [00:07<00:03,  2.91it/s]\n",
            " 50% 10/20 [00:08<00:03,  3.22it/s]\n",
            " 55% 11/20 [00:08<00:02,  3.47it/s]\n",
            " 60% 12/20 [00:08<00:02,  3.66it/s]\n",
            " 65% 13/20 [00:08<00:01,  3.81it/s]\n",
            " 70% 14/20 [00:09<00:01,  3.91it/s]\n",
            " 75% 15/20 [00:09<00:01,  3.98it/s]\n",
            " 80% 16/20 [00:09<00:00,  4.04it/s]\n",
            " 85% 17/20 [00:09<00:00,  4.06it/s]\n",
            " 90% 18/20 [00:10<00:00,  4.10it/s]\n",
            " 95% 19/20 [00:10<00:00,  4.11it/s]\n",
            "100% 20/20 [00:10<00:00,  1.91it/s]\n",
            "Error completing request\n",
            "Arguments: ('a girl', '', 'None', 'None', 20, 0, False, False, 1, 1, 7, -1.0, -1.0, 0, 0, 0, False, 512, 512, False, 0.7, 0, 0, 0, False, False, False, '', 1, '', 0, '', True, False, False) {}\n",
            "Traceback (most recent call last):\n",
            "  File \"/content/stable-diffusion-webui/modules/call_queue.py\", line 45, in f\n",
            "    res = list(func(*args, **kwargs))\n",
            "  File \"/content/stable-diffusion-webui/modules/call_queue.py\", line 28, in f\n",
            "    res = func(*args, **kwargs)\n",
            "  File \"/content/stable-diffusion-webui/modules/txt2img.py\", line 49, in txt2img\n",
            "    processed = process_images(p)\n",
            "  File \"/content/stable-diffusion-webui/modules/processing.py\", line 430, in process_images\n",
            "    res = process_images_inner(p)\n",
            "  File \"/content/stable-diffusion-webui/modules/processing.py\", line 533, in process_images_inner\n",
            "    x_samples_ddim = [decode_first_stage(p.sd_model, samples_ddim[i:i+1].to(dtype=devices.dtype_vae))[0].cpu() for i in range(samples_ddim.size(0))]\n",
            "  File \"/content/stable-diffusion-webui/modules/processing.py\", line 533, in <listcomp>\n",
            "    x_samples_ddim = [decode_first_stage(p.sd_model, samples_ddim[i:i+1].to(dtype=devices.dtype_vae))[0].cpu() for i in range(samples_ddim.size(0))]\n",
            "  File \"/content/stable-diffusion-webui/modules/processing.py\", line 368, in decode_first_stage\n",
            "    x = model.decode_first_stage(x)\n",
            "  File \"/usr/local/lib/python3.9/site-packages/torch/autograd/grad_mode.py\", line 27, in decorate_context\n",
            "    return func(*args, **kwargs)\n",
            "  File \"/content/stable-diffusion-webui/repositories/stable-diffusion-stability-ai/ldm/models/diffusion/ddpm.py\", line 826, in decode_first_stage\n",
            "    return self.first_stage_model.decode(z)\n",
            "  File \"/content/stable-diffusion-webui/modules/lowvram.py\", line 52, in first_stage_model_decode_wrap\n",
            "    return first_stage_model_decode(z)\n",
            "  File \"/content/stable-diffusion-webui/repositories/stable-diffusion-stability-ai/ldm/models/autoencoder.py\", line 90, in decode\n",
            "    dec = self.decoder(z)\n",
            "  File \"/usr/local/lib/python3.9/site-packages/torch/nn/modules/module.py\", line 1130, in _call_impl\n",
            "    return forward_call(*input, **kwargs)\n",
            "  File \"/content/stable-diffusion-webui/repositories/stable-diffusion-stability-ai/ldm/modules/diffusionmodules/model.py\", line 631, in forward\n",
            "    h = self.mid.attn_1(h)\n",
            "  File \"/usr/local/lib/python3.9/site-packages/torch/nn/modules/module.py\", line 1130, in _call_impl\n",
            "    return forward_call(*input, **kwargs)\n",
            "  File \"/content/stable-diffusion-webui/repositories/stable-diffusion-stability-ai/ldm/modules/diffusionmodules/model.py\", line 258, in forward\n",
            "    out = xformers.ops.memory_efficient_attention(q, k, v, attn_bias=None, op=self.attention_op)\n",
            "TypeError: memory_efficient_attention() got an unexpected keyword argument 'attn_bias'\n",
            "\n",
            "Loading weights [1a7df6b8] from /content/stable-diffusion-webui/models/Stable-diffusion/Anything-V3.0-pruned-fp32.ckpt\n",
            "Applying cross attention optimization (Doggettx).\n",
            "Weights loaded.\n",
            "  0% 0/20 [00:00<?, ?it/s]\n",
            "  5% 1/20 [00:00<00:18,  1.03it/s]\n",
            " 10% 2/20 [00:01<00:09,  1.86it/s]\n",
            " 15% 3/20 [00:01<00:06,  2.50it/s]\n",
            " 20% 4/20 [00:01<00:05,  2.94it/s]\n",
            " 25% 5/20 [00:01<00:04,  3.29it/s]\n",
            " 30% 6/20 [00:02<00:03,  3.55it/s]\n",
            " 35% 7/20 [00:02<00:03,  3.73it/s]\n",
            " 40% 8/20 [00:02<00:03,  3.84it/s]\n",
            " 45% 9/20 [00:02<00:02,  3.92it/s]\n",
            " 50% 10/20 [00:03<00:02,  3.99it/s]\n",
            " 55% 11/20 [00:03<00:02,  4.05it/s]\n",
            " 60% 12/20 [00:03<00:01,  4.07it/s]\n",
            " 65% 13/20 [00:03<00:01,  4.07it/s]\n",
            " 70% 14/20 [00:04<00:01,  4.10it/s]\n",
            " 75% 15/20 [00:04<00:01,  4.12it/s]\n",
            " 80% 16/20 [00:04<00:00,  4.12it/s]\n",
            " 85% 17/20 [00:04<00:00,  4.11it/s]\n",
            " 90% 18/20 [00:05<00:00,  4.13it/s]\n",
            " 95% 19/20 [00:05<00:00,  4.13it/s]\n",
            "100% 20/20 [00:05<00:00,  3.60it/s]\n",
            "Error completing request\n",
            "Arguments: ('a girl', '', 'None', 'None', 20, 0, False, False, 1, 1, 7, -1.0, -1.0, 0, 0, 0, False, 512, 512, False, 0.7, 0, 0, 0, False, False, False, '', 1, '', 0, '', True, False, False) {}\n",
            "Traceback (most recent call last):\n",
            "  File \"/content/stable-diffusion-webui/modules/call_queue.py\", line 45, in f\n",
            "    res = list(func(*args, **kwargs))\n",
            "  File \"/content/stable-diffusion-webui/modules/call_queue.py\", line 28, in f\n",
            "    res = func(*args, **kwargs)\n",
            "  File \"/content/stable-diffusion-webui/modules/txt2img.py\", line 49, in txt2img\n",
            "    processed = process_images(p)\n",
            "  File \"/content/stable-diffusion-webui/modules/processing.py\", line 430, in process_images\n",
            "    res = process_images_inner(p)\n",
            "  File \"/content/stable-diffusion-webui/modules/processing.py\", line 533, in process_images_inner\n",
            "    x_samples_ddim = [decode_first_stage(p.sd_model, samples_ddim[i:i+1].to(dtype=devices.dtype_vae))[0].cpu() for i in range(samples_ddim.size(0))]\n",
            "  File \"/content/stable-diffusion-webui/modules/processing.py\", line 533, in <listcomp>\n",
            "    x_samples_ddim = [decode_first_stage(p.sd_model, samples_ddim[i:i+1].to(dtype=devices.dtype_vae))[0].cpu() for i in range(samples_ddim.size(0))]\n",
            "  File \"/content/stable-diffusion-webui/modules/processing.py\", line 368, in decode_first_stage\n",
            "    x = model.decode_first_stage(x)\n",
            "  File \"/usr/local/lib/python3.9/site-packages/torch/autograd/grad_mode.py\", line 27, in decorate_context\n",
            "    return func(*args, **kwargs)\n",
            "  File \"/content/stable-diffusion-webui/repositories/stable-diffusion-stability-ai/ldm/models/diffusion/ddpm.py\", line 826, in decode_first_stage\n",
            "    return self.first_stage_model.decode(z)\n",
            "  File \"/content/stable-diffusion-webui/modules/lowvram.py\", line 52, in first_stage_model_decode_wrap\n",
            "    return first_stage_model_decode(z)\n",
            "  File \"/content/stable-diffusion-webui/repositories/stable-diffusion-stability-ai/ldm/models/autoencoder.py\", line 90, in decode\n",
            "    dec = self.decoder(z)\n",
            "  File \"/usr/local/lib/python3.9/site-packages/torch/nn/modules/module.py\", line 1130, in _call_impl\n",
            "    return forward_call(*input, **kwargs)\n",
            "  File \"/content/stable-diffusion-webui/repositories/stable-diffusion-stability-ai/ldm/modules/diffusionmodules/model.py\", line 631, in forward\n",
            "    h = self.mid.attn_1(h)\n",
            "  File \"/usr/local/lib/python3.9/site-packages/torch/nn/modules/module.py\", line 1130, in _call_impl\n",
            "    return forward_call(*input, **kwargs)\n",
            "  File \"/content/stable-diffusion-webui/repositories/stable-diffusion-stability-ai/ldm/modules/diffusionmodules/model.py\", line 258, in forward\n",
            "    out = xformers.ops.memory_efficient_attention(q, k, v, attn_bias=None, op=self.attention_op)\n",
            "TypeError: memory_efficient_attention() got an unexpected keyword argument 'attn_bias'\n",
            "\n",
            "Interrupted with signal 2 in <frame at 0x7fb15c400ac0, file '/content/stable-diffusion-webui/webui.py', line 84, code sigint_handler>\n"
          ]
        }
      ],
      "source": [
        "%cd /content/stable-diffusion-webui\n",
        "!COMMANDLINE_ARGS=\"--share --gradio-debug --medvram --gradio-auth 1111:1111\" REQS_FILE=\"requirements.txt\" python launch.py"
      ]
    },
    {
      "cell_type": "markdown",
      "metadata": {
        "id": "aCtJffM2ZE06"
      },
      "source": [
        "用于在本地驱动器上下载的Zip图像（单击左侧的文件夹图标，即{x}下方的文件夹图标）"
      ]
    },
    {
      "cell_type": "code",
      "execution_count": null,
      "metadata": {
        "id": "TmRqNyiAZCHu"
      },
      "outputs": [],
      "source": [
        "!zip -r /content/stable-diffusion-webui /content/stable-diffusion-webui/outputs "
      ]
    },
    {
      "cell_type": "markdown",
      "metadata": {
        "id": "tcslU-S2ZNr9"
      },
      "source": [
        "将图像保存到Google云端硬盘 **Warning: this will cause google to scan your drive, so if you intend to use this and worry about that kind of stuff, probablly just set this up on a clean account that's just for this colab**"
      ]
    },
    {
      "cell_type": "code",
      "execution_count": null,
      "metadata": {
        "id": "-N0lnu-TZOTW"
      },
      "outputs": [],
      "source": [
        "from google.colab import drive # type: ignore\n",
        "\n",
        "try:\n",
        "   drive_path = \"/content/drive\"\n",
        "   drive.mount(drive_path,force_remount=False)\n",
        "except:\n",
        "   print(\"...error mounting drive or with drive path variables\")\n",
        "\n",
        "!cp -r \"/content/stable-diffusion-webui/outputs\" \"/content/drive/MyDrive\""
      ]
    }
  ],
  "metadata": {
    "accelerator": "GPU",
    "colab": {
      "provenance": [],
      "include_colab_link": true
    },
    "gpuClass": "standard",
    "kernelspec": {
      "display_name": "Python 3.10.6 64-bit",
      "language": "python",
      "name": "python3"
    },
    "language_info": {
      "name": "python",
      "version": "3.10.6"
    },
    "vscode": {
      "interpreter": {
        "hash": "301a17a29b57d3836b7901af1621afd6d2b1f2298b9c7949191147cf2fea93e3"
      }
    }
  },
  "nbformat": 4,
  "nbformat_minor": 0
}