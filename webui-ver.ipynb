{
  "cells": [
    {
      "cell_type": "markdown",
      "metadata": {
        "id": "view-in-github",
        "colab_type": "text"
      },
      "source": [
        "<a href=\"https://colab.research.google.com/github/jyx66626/sd/blob/main/webui-ver.ipynb\" target=\"_parent\"><img src=\"https://colab.research.google.com/assets/colab-badge.svg\" alt=\"Open In Colab\"/></a>"
      ]
    },
    {
      "cell_type": "markdown",
      "metadata": {
        "id": "OHCtG9MT0jLq"
      },
      "source": [
        "克隆webui仓库"
      ]
    },
    {
      "cell_type": "code",
      "execution_count": 1,
      "metadata": {
        "colab": {
          "base_uri": "https://localhost:8080/"
        },
        "id": "sBbcB4vwj_jm",
        "outputId": "c39fe2bc-52b0-40e8-cff6-6f830ca776a4"
      },
      "outputs": [
        {
          "output_type": "stream",
          "name": "stdout",
          "text": [
            "Cloning into 'stable-diffusion-webui'...\n",
            "remote: Enumerating objects: 12190, done.\u001b[K\n",
            "remote: Total 12190 (delta 0), reused 0 (delta 0), pack-reused 12190\u001b[K\n",
            "Receiving objects: 100% (12190/12190), 24.19 MiB | 16.21 MiB/s, done.\n",
            "Resolving deltas: 100% (8524/8524), done.\n",
            "/content/stable-diffusion-webui/localizations\n",
            "Cloning into 'stable-diffusion-webui-chinese'...\n",
            "remote: Enumerating objects: 321, done.\u001b[K\n",
            "remote: Counting objects: 100% (321/321), done.\u001b[K\n",
            "remote: Compressing objects: 100% (215/215), done.\u001b[K\n",
            "remote: Total 321 (delta 157), reused 267 (delta 103), pack-reused 0\u001b[K\n",
            "Receiving objects: 100% (321/321), 1.95 MiB | 33.82 MiB/s, done.\n",
            "Resolving deltas: 100% (157/157), done.\n"
          ]
        }
      ],
      "source": [
        "!git clone https://github.com/AUTOMATIC1111/stable-diffusion-webui\n",
        "%cd /content/stable-diffusion-webui/localizations\n",
        "!git clone https://github.com/VinsonLaro/stable-diffusion-webui-chinese.git\n",
        "!mv -f /content/stable-diffusion-webui/localizations/stable-diffusion-webui-chinese/Chinese-All.json /content/stable-diffusion-webui/localizations"
      ]
    },
    {
      "cell_type": "code",
      "execution_count": 2,
      "metadata": {
        "id": "DkeGz-Rn8o8c",
        "outputId": "907e0063-609c-4f68-8ea4-5479163d32d2",
        "colab": {
          "base_uri": "https://localhost:8080/"
        }
      },
      "outputs": [
        {
          "output_type": "stream",
          "name": "stdout",
          "text": [
            "/content/stable-diffusion-webui/extensions\n",
            "Cloning into 'stable-diffusion-webui-wd14-tagger'...\n",
            "remote: Enumerating objects: 218, done.\u001b[K\n",
            "remote: Counting objects: 100% (218/218), done.\u001b[K\n",
            "remote: Compressing objects: 100% (125/125), done.\u001b[K\n",
            "remote: Total 218 (delta 107), reused 160 (delta 58), pack-reused 0\u001b[K\n",
            "Receiving objects: 100% (218/218), 1.04 MiB | 3.09 MiB/s, done.\n",
            "Resolving deltas: 100% (107/107), done.\n",
            "/content/stable-diffusion-webui/models\n"
          ]
        }
      ],
      "source": [
        "#安装tag识别插件要手动移动\n",
        "%cd /content/stable-diffusion-webui/extensions\n",
        "!mkdir tagger\n",
        "!git clone https://github.com/toriato/stable-diffusion-webui-wd14-tagger.git \n",
        "%cd /content/stable-diffusion-webui/models/"
      ]
    },
    {
      "cell_type": "code",
      "execution_count": 3,
      "metadata": {
        "id": "Xenyyf0DOfyi",
        "outputId": "eeebd178-e914-4a45-8be3-13257768e1aa",
        "colab": {
          "base_uri": "https://localhost:8080/"
        }
      },
      "outputs": [
        {
          "output_type": "stream",
          "name": "stdout",
          "text": [
            "--2022-12-23 13:00:40--  https://repo.anaconda.com/miniconda/Miniconda3-latest-Linux-x86_64.sh\n",
            "Resolving repo.anaconda.com (repo.anaconda.com)... 104.16.130.3, 104.16.131.3, 2606:4700::6810:8303, ...\n",
            "Connecting to repo.anaconda.com (repo.anaconda.com)|104.16.130.3|:443... connected.\n",
            "HTTP request sent, awaiting response... 200 OK\n",
            "Length: 72402405 (69M) [application/x-sh]\n",
            "Saving to: ‘Miniconda3-latest-Linux-x86_64.sh’\n",
            "\n",
            "Miniconda3-latest-L 100%[===================>]  69.05M   293MB/s    in 0.2s    \n",
            "\n",
            "2022-12-23 13:00:40 (293 MB/s) - ‘Miniconda3-latest-Linux-x86_64.sh’ saved [72402405/72402405]\n",
            "\n",
            "PREFIX=/usr/local\n",
            "Unpacking payload ...\n",
            "                                                                                              \n",
            "Installing base environment...\n",
            "\n",
            "\n",
            "Downloading and Extracting Packages\n",
            "\n",
            "\n",
            "Downloading and Extracting Packages\n",
            "\n",
            "Preparing transaction: - \b\b\\ \b\b| \b\bdone\n",
            "Executing transaction: - \b\b\\ \b\b| \b\b/ \b\b- \b\b\\ \b\b| \b\b/ \b\b- \b\b\\ \b\b| \b\b/ \b\b- \b\b\\ \b\b| \b\b/ \b\b- \b\b\\ \b\b| \b\b/ \b\b- \b\b\\ \b\b| \b\b/ \b\bdone\n",
            "installation finished.\n",
            "WARNING:\n",
            "    You currently have a PYTHONPATH environment variable set. This may cause\n",
            "    unexpected behavior when running the Python interpreter in Miniconda3.\n",
            "    For best results, please verify that your PYTHONPATH only points to\n",
            "    directories of packages that are compatible with the Python interpreter\n",
            "    in Miniconda3: /usr/local\n"
          ]
        }
      ],
      "source": [
        "#安装依赖\n",
        "import sys\n",
        "!wget https://repo.anaconda.com/miniconda/Miniconda3-latest-Linux-x86_64.sh\n",
        "!chmod +x Miniconda3-latest-Linux-x86_64.sh\n",
        "!bash ./Miniconda3-latest-Linux-x86_64.sh -b -f -p /usr/local\n",
        "sys.path.append('/usr/local/lib/python3.7/site-packages/')\n",
        "!rm Miniconda3-latest-Linux-x86_64.sh"
      ]
    },
    {
      "cell_type": "code",
      "execution_count": null,
      "metadata": {
        "id": "T5VeSNfTOkNC"
      },
      "outputs": [],
      "source": [
        "#安装下载工具\n",
        "!sudo apt-get install aria2\n",
        "!sudo apt-get install file\n",
        "!sudo apt-get installl unzip"
      ]
    },
    {
      "cell_type": "code",
      "execution_count": null,
      "metadata": {
        "id": "k1Dt3cW6QlQ9"
      },
      "outputs": [],
      "source": [
        "%cd /content/stable-diffusion-webui/models/Stable-diffusion/\n",
        "#官方模型\n",
        "!aria2c --seed-time=0 \"magnet:?xt=urn:btih:d9db662ab5ace77004b3348c23c9381380c27156&dn=Anything-V3.0-fp32.zip&tr=udp%3a%2f%2ftracker.opentrackr.org%3a1337%2fannounce&tr=udp%3a%2f%2f9.rarbg.com%3a2810%2fannounce&tr=udp%3a%2f%2fopentracker.i2p.rocks%3a6969%2fannounce&tr=https%3a%2f%2fopentracker.i2p.rocks%3a443%2fannounce&tr=udp%3a%2f%2ftracker.torrent.eu.org%3a451%2fannounce&tr=udp%3a%2f%2fopen.stealth.si%3a80%2fannounce&tr=http%3a%2f%2ftracker.openbittorrent.com%3a80%2fannounce&tr=udp%3a%2f%2fvibe.sleepyinternetfun.xyz%3a1738%2fannounce&tr=udp%3a%2f%2ftracker1.bt.moack.co.kr%3a80%2fannounce&tr=udp%3a%2f%2ftracker.zerobytes.xyz%3a1337%2fannounce&tr=udp%3a%2f%2ftracker.tiny-vps.com%3a6969%2fannounce&tr=udp%3a%2f%2ftracker.theoks.net%3a6969%2fannounce&tr=udp%3a%2f%2ftracker.swateam.org.uk%3a2710%2fannounce&tr=udp%3a%2f%2ftracker.publictracker.xyz%3a6969%2fannounce&tr=udp%3a%2f%2ftracker.monitorit4.me%3a6969%2fannounce&tr=udp%3a%2f%2ftracker.moeking.me%3a6969%2fannounce&tr=udp%3a%2f%2ftracker.encrypted-data.xyz%3a1337%2fannounce&tr=udp%3a%2f%2ftracker.dler.org%3a6969%2fannounce&tr=udp%3a%2f%2ftracker.army%3a6969%2fannounce&tr=udp%3a%2f%2ftracker.altrosky.nl%3a6969%2fannounce\"\n",
        "!unzip Anything-V3.0-fp32.zip\n",
        "!rm -f Anything-V3.0-fp32.zip\n",
        "!mv /content/stable-diffusion-webui/models/Stable-diffusion/Anything-V3.0.vae.pt /content/stable-diffusion-webui/models/VAE\n",
        "#wlop慢\n",
        "#!aria2c https://ddns.kurokitomoko.top:240/d/%E6%A8%A1%E5%9E%8B%E5%BA%93/ckpt/Stable%20DIffusion%E6%A8%A1%E5%9E%8B%E5%BA%93/%E9%A3%8E%E6%A0%BC%E6%A8%A1%E5%9E%8B/wlop%E5%8E%9A%E6%B6%82.ckpt\n",
        "!aria2c https://www.123114514.xyz/d/models/ckpt/\\(%E6%8E%A8%E8%8D%90\\)animesfw-final-pruned.ckpt\n",
        "%cd /content/stable-diffusion-webui/embeddings"
      ]
    },
    {
      "cell_type": "code",
      "execution_count": 6,
      "metadata": {
        "colab": {
          "base_uri": "https://localhost:8080/"
        },
        "id": "ZzRNMT42Gw_p",
        "outputId": "54459e76-c114-4e24-9af9-2dfa4ef34330"
      },
      "outputs": [
        {
          "output_type": "stream",
          "name": "stdout",
          "text": [
            "mkdir: cannot create directory ‘/’: File exists\n",
            "mkdir: cannot create directory ‘content/stable-diffusion-webui/embeddings’: No such file or directory\n",
            "/content/stable-diffusion-webui/models/Stable-diffusion\n"
          ]
        }
      ],
      "source": [
        "!mkdir -p  /content/stable-diffusion-webui/models/hypernetworks\n",
        "!mkdir - p / content/stable-diffusion-webui/embeddings\n",
        "%cd /content/stable-diffusion-webui/models/Stable-diffusion/"
      ]
    },
    {
      "cell_type": "markdown",
      "source": [],
      "metadata": {
        "id": "GViToU8aSHPs"
      }
    },
    {
      "cell_type": "markdown",
      "metadata": {
        "id": "xt8lbdmC04ox"
      },
      "source": [
        "启动 web ui. 您将获得一个链接 nnn.gradio.app, 访问它.\n",
        "\n",
        "命令行参数是:\n",
        "  - `--share` - 创建在线 gradio.app 链接\n",
        "  - `--gradio-debug` - 将输出打印到控制台\n",
        "  - `--gradio-auth me:qwerty` - 添加身份验证到 gradio：用户名 me，密码 qwerty"
      ]
    },
    {
      "cell_type": "code",
      "execution_count": null,
      "metadata": {
        "colab": {
          "base_uri": "https://localhost:8080/"
        },
        "id": "R-xAdMA5wxXd",
        "outputId": "738d6576-821a-42b6-8a26-d5d52e62c8b3"
      },
      "outputs": [
        {
          "output_type": "stream",
          "name": "stdout",
          "text": [
            "/content/stable-diffusion-webui\n",
            "Python 3.10.8 (main, Nov 24 2022, 14:13:03) [GCC 11.2.0]\n",
            "Commit hash: 685f9631b56ff8bd43bce24ff5ce0f9a0e9af490\n",
            "Installing requirements for Web UI\n",
            "\n",
            "Launching Web UI with arguments: --share --gradio-debug --medvram --gradio-auth 1111:1111\n",
            "No module 'xformers'. Proceeding without it.\n",
            "LatentDiffusion: Running in eps-prediction mode\n",
            "DiffusionWrapper has 859.52 M params.\n",
            "Loading weights [1a7df6b8] from /content/stable-diffusion-webui/models/Stable-diffusion/Anything-V3.0-pruned-fp32.ckpt\n",
            "Applying cross attention optimization (Doggettx).\n",
            "Model loaded.\n",
            "Error verifying pickled file from /content/stable-diffusion-webui/embeddings/-:\n",
            "Traceback (most recent call last):\n",
            "  File \"/content/stable-diffusion-webui/modules/safe.py\", line 135, in load_with_extra\n",
            "    check_pt(filename, extra_handler)\n",
            "  File \"/content/stable-diffusion-webui/modules/safe.py\", line 81, in check_pt\n",
            "    with zipfile.ZipFile(filename) as z:\n",
            "  File \"/usr/local/lib/python3.10/zipfile.py\", line 1249, in __init__\n",
            "    self.fp = io.open(file, filemode)\n",
            "IsADirectoryError: [Errno 21] Is a directory: '/content/stable-diffusion-webui/embeddings/-'\n",
            "\n",
            "\n",
            "The file may be malicious, so the program is not going to read it.\n",
            "You can skip this check with --disable-safe-unpickle commandline argument.\n",
            "\n",
            "\n",
            "Error loading emedding -:\n",
            "Traceback (most recent call last):\n",
            "  File \"/content/stable-diffusion-webui/modules/textual_inversion/textual_inversion.py\", line 134, in load_textual_inversion_embeddings\n",
            "    process_file(fullfn, fn)\n",
            "  File \"/content/stable-diffusion-webui/modules/textual_inversion/textual_inversion.py\", line 104, in process_file\n",
            "    if 'string_to_param' in data:\n",
            "TypeError: argument of type 'NoneType' is not iterable\n",
            "\n",
            "Error verifying pickled file from /content/stable-diffusion-webui/embeddings/p:\n",
            "Traceback (most recent call last):\n",
            "  File \"/content/stable-diffusion-webui/modules/safe.py\", line 135, in load_with_extra\n",
            "    check_pt(filename, extra_handler)\n",
            "  File \"/content/stable-diffusion-webui/modules/safe.py\", line 81, in check_pt\n",
            "    with zipfile.ZipFile(filename) as z:\n",
            "  File \"/usr/local/lib/python3.10/zipfile.py\", line 1249, in __init__\n",
            "    self.fp = io.open(file, filemode)\n",
            "IsADirectoryError: [Errno 21] Is a directory: '/content/stable-diffusion-webui/embeddings/p'\n",
            "\n",
            "\n",
            "The file may be malicious, so the program is not going to read it.\n",
            "You can skip this check with --disable-safe-unpickle commandline argument.\n",
            "\n",
            "\n",
            "Error loading emedding p:\n",
            "Traceback (most recent call last):\n",
            "  File \"/content/stable-diffusion-webui/modules/textual_inversion/textual_inversion.py\", line 134, in load_textual_inversion_embeddings\n",
            "    process_file(fullfn, fn)\n",
            "  File \"/content/stable-diffusion-webui/modules/textual_inversion/textual_inversion.py\", line 104, in process_file\n",
            "    if 'string_to_param' in data:\n",
            "TypeError: argument of type 'NoneType' is not iterable\n",
            "\n",
            "Loaded a total of 1 textual inversion embeddings.\n",
            "Embeddings: 明日方舟-艾丽妮-16000\n",
            "Running on local URL:  http://127.0.0.1:7860\n",
            "Running on public URL: https://3aeb3697cac36b6c.gradio.app\n",
            "\n",
            "This share link expires in 72 hours. For free permanent hosting and GPU upgrades (NEW!), check out Spaces: https://huggingface.co/spaces\n",
            "Loading weights [1d4a34af] from /content/stable-diffusion-webui/models/Stable-diffusion/(推荐)animesfw-final-pruned.ckpt\n",
            "Applying cross attention optimization (Doggettx).\n",
            "Weights loaded.\n",
            "  0% 0/20 [00:00<?, ?it/s]\n",
            "  5% 1/20 [00:07<02:21,  7.44s/it]\n",
            " 10% 2/20 [00:07<00:57,  3.20s/it]\n",
            " 15% 3/20 [00:07<00:31,  1.85s/it]\n",
            " 20% 4/20 [00:08<00:19,  1.21s/it]\n",
            " 25% 5/20 [00:08<00:12,  1.16it/s]\n",
            " 30% 6/20 [00:08<00:09,  1.54it/s]\n",
            " 35% 7/20 [00:08<00:06,  1.95it/s]\n",
            " 40% 8/20 [00:09<00:05,  2.35it/s]\n",
            " 45% 9/20 [00:09<00:04,  2.72it/s]\n",
            " 50% 10/20 [00:09<00:03,  3.06it/s]\n",
            " 55% 11/20 [00:09<00:02,  3.35it/s]\n",
            " 60% 12/20 [00:10<00:02,  3.59it/s]\n",
            " 65% 13/20 [00:10<00:01,  3.75it/s]\n",
            " 70% 14/20 [00:10<00:01,  3.88it/s]\n",
            " 75% 15/20 [00:10<00:01,  3.99it/s]\n",
            " 80% 16/20 [00:10<00:00,  4.06it/s]\n",
            " 85% 17/20 [00:11<00:00,  4.11it/s]\n",
            " 90% 18/20 [00:11<00:00,  4.14it/s]\n",
            " 95% 19/20 [00:11<00:00,  4.17it/s]\n",
            "100% 20/20 [00:11<00:00,  1.68it/s]\n",
            "Total progress: 100% 20/20 [00:09<00:00,  2.03it/s]\n",
            "  0% 0/20 [00:00<?, ?it/s]\n",
            "  5% 1/20 [00:01<00:23,  1.21s/it]\n",
            " 10% 2/20 [00:01<00:13,  1.29it/s]\n",
            " 15% 3/20 [00:02<00:10,  1.56it/s]\n",
            " 20% 4/20 [00:02<00:09,  1.74it/s]\n",
            " 25% 5/20 [00:03<00:08,  1.85it/s]\n",
            " 30% 6/20 [00:03<00:07,  1.93it/s]\n",
            " 35% 7/20 [00:04<00:06,  1.98it/s]\n",
            " 40% 8/20 [00:04<00:05,  2.01it/s]\n",
            " 45% 9/20 [00:05<00:05,  2.04it/s]\n",
            " 50% 10/20 [00:05<00:04,  2.06it/s]\n",
            " 55% 11/20 [00:05<00:04,  2.07it/s]\n",
            " 60% 12/20 [00:06<00:03,  2.08it/s]\n",
            " 65% 13/20 [00:06<00:03,  2.09it/s]\n",
            " 70% 14/20 [00:07<00:02,  2.09it/s]\n",
            " 75% 15/20 [00:07<00:02,  2.09it/s]\n",
            " 80% 16/20 [00:08<00:01,  2.09it/s]\n",
            " 85% 17/20 [00:08<00:01,  2.10it/s]\n",
            " 90% 18/20 [00:09<00:00,  2.09it/s]\n",
            " 95% 19/20 [00:09<00:00,  2.09it/s]\n",
            "100% 20/20 [00:10<00:00,  1.99it/s]\n",
            "  0% 0/20 [00:00<?, ?it/s]\n",
            "  5% 1/20 [00:01<00:22,  1.20s/it]\n",
            " 10% 2/20 [00:01<00:14,  1.28it/s]\n",
            " 15% 3/20 [00:02<00:10,  1.56it/s]\n",
            " 20% 4/20 [00:02<00:09,  1.73it/s]\n",
            " 25% 5/20 [00:03<00:08,  1.84it/s]\n",
            " 30% 6/20 [00:03<00:07,  1.91it/s]\n",
            " 35% 7/20 [00:04<00:06,  1.97it/s]\n",
            " 40% 8/20 [00:04<00:05,  2.00it/s]\n",
            " 45% 9/20 [00:05<00:05,  2.03it/s]\n",
            " 50% 10/20 [00:05<00:04,  2.04it/s]\n",
            " 55% 11/20 [00:06<00:04,  2.05it/s]\n",
            " 60% 12/20 [00:06<00:03,  2.03it/s]\n",
            " 65% 13/20 [00:06<00:03,  2.05it/s]\n",
            " 70% 14/20 [00:07<00:02,  2.06it/s]\n",
            " 75% 15/20 [00:07<00:02,  2.06it/s]\n",
            " 80% 16/20 [00:08<00:01,  2.06it/s]\n",
            " 85% 17/20 [00:08<00:01,  2.07it/s]\n",
            " 90% 18/20 [00:09<00:00,  2.08it/s]\n",
            " 95% 19/20 [00:09<00:00,  2.07it/s]\n",
            "100% 20/20 [00:10<00:00,  1.97it/s]\n",
            "  0% 0/20 [00:00<?, ?it/s]\n",
            "  5% 1/20 [00:01<00:26,  1.41s/it]\n",
            " 10% 2/20 [00:01<00:16,  1.12it/s]\n",
            " 15% 3/20 [00:02<00:12,  1.36it/s]\n",
            " 20% 4/20 [00:03<00:10,  1.53it/s]\n",
            " 25% 5/20 [00:03<00:08,  1.67it/s]\n",
            " 30% 6/20 [00:04<00:07,  1.76it/s]\n",
            " 35% 7/20 [00:04<00:07,  1.82it/s]\n",
            " 40% 8/20 [00:05<00:06,  1.84it/s]\n",
            "Total progress: 49it [00:26,  1.80it/s]\u001b[A"
          ]
        }
      ],
      "source": [
        "%cd /content/stable-diffusion-webui\n",
        "!COMMANDLINE_ARGS=\"--share --gradio-debug --medvram --gradio-auth 1111:1111\" REQS_FILE=\"requirements.txt\" python launch.py"
      ]
    },
    {
      "cell_type": "markdown",
      "metadata": {
        "id": "aCtJffM2ZE06"
      },
      "source": [
        "用于在本地驱动器上下载的Zip图像（单击左侧的文件夹图标，即{x}下方的文件夹图标）"
      ]
    },
    {
      "cell_type": "code",
      "execution_count": null,
      "metadata": {
        "id": "TmRqNyiAZCHu"
      },
      "outputs": [],
      "source": [
        "!zip -r /content/stable-diffusion-webui /content/stable-diffusion-webui/outputs "
      ]
    },
    {
      "cell_type": "code",
      "source": [
        "from google.colab import drive\n",
        "drive.mount('/content/drive')"
      ],
      "metadata": {
        "id": "br1TPsXPQB7s"
      },
      "execution_count": null,
      "outputs": []
    },
    {
      "cell_type": "markdown",
      "metadata": {
        "id": "tcslU-S2ZNr9"
      },
      "source": [
        "将图像保存到Google云端硬盘 **Warning: this will cause google to scan your drive, so if you intend to use this and worry about that kind of stuff, probablly just set this up on a clean account that's just for this colab**"
      ]
    },
    {
      "cell_type": "code",
      "execution_count": null,
      "metadata": {
        "id": "-N0lnu-TZOTW"
      },
      "outputs": [],
      "source": [
        "from google.colab import drive # type: ignore\n",
        "\n",
        "try:\n",
        "   drive_path = \"/content/drive\"\n",
        "   drive.mount(drive_path,force_remount=False)\n",
        "except:\n",
        "   print(\"...error mounting drive or with drive path variables\")\n",
        "\n",
        "!cp -r \"/content/stable-diffusion-webui/textual_inversion\" \"/content/drive/MyDrive\""
      ]
    }
  ],
  "metadata": {
    "accelerator": "GPU",
    "colab": {
      "provenance": [],
      "include_colab_link": true
    },
    "gpuClass": "standard",
    "kernelspec": {
      "display_name": "Python 3.10.6 64-bit",
      "language": "python",
      "name": "python3"
    },
    "language_info": {
      "name": "python",
      "version": "3.10.6"
    },
    "vscode": {
      "interpreter": {
        "hash": "301a17a29b57d3836b7901af1621afd6d2b1f2298b9c7949191147cf2fea93e3"
      }
    }
  },
  "nbformat": 4,
  "nbformat_minor": 0
}