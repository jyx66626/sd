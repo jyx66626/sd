{
  "cells": [
    {
      "cell_type": "markdown",
      "metadata": {
        "id": "OHCtG9MT0jLq"
      },
      "source": [
        "克隆webui仓库"
      ]
    },
    {
      "cell_type": "code",
      "execution_count": 21,
      "metadata": {
        "colab": {
          "base_uri": "https://localhost:8080/"
        },
        "id": "sBbcB4vwj_jm",
        "outputId": "ac00603f-ee69-4baf-e1ca-495bd9dd2e9e"
      },
      "outputs": [
        {
          "name": "stdout",
          "output_type": "stream",
          "text": [
            "fatal: destination path 'stable-diffusion-webui' already exists and is not an empty directory.\n",
            "/content/stable-diffusion-webui/stable-diffusion-webui\n"
          ]
        }
      ],
      "source": [
        "!git clone https://github.com/AUTOMATIC1111/stable-diffusion-webui\n",
        "%cd stable-diffusion-webui"
      ]
    },
    {
      "cell_type": "markdown",
      "metadata": {
        "id": "F0EINk5M0s-w"
      },
      "source": [
        "从NovelAILeaks下载模型"
      ]
    },
    {
      "cell_type": "code",
      "execution_count": 22,
      "metadata": {
        "colab": {
          "base_uri": "https://localhost:8080/"
        },
        "id": "Xenyyf0DOfyi",
        "outputId": "17ae978b-b9d2-4176-9502-9465350cedf6"
      },
      "outputs": [
        {
          "name": "stdout",
          "output_type": "stream",
          "text": [
            "--2022-11-30 15:59:51--  https://repo.anaconda.com/miniconda/Miniconda3-latest-Linux-x86_64.sh\n",
            "Resolving repo.anaconda.com (repo.anaconda.com)... 104.16.131.3, 104.16.130.3, 2606:4700::6810:8203, ...\n",
            "Connecting to repo.anaconda.com (repo.anaconda.com)|104.16.131.3|:443... connected.\n",
            "HTTP request sent, awaiting response... 200 OK\n",
            "Length: 76607678 (73M) [application/x-sh]\n",
            "Saving to: ‘Miniconda3-latest-Linux-x86_64.sh’\n",
            "\n",
            "Miniconda3-latest-L 100%[===================>]  73.06M   172MB/s    in 0.4s    \n",
            "\n",
            "2022-11-30 15:59:51 (172 MB/s) - ‘Miniconda3-latest-Linux-x86_64.sh’ saved [76607678/76607678]\n",
            "\n",
            "PREFIX=/usr/local\n",
            "Unpacking payload ...\n",
            "Collecting package metadata (current_repodata.json): - \b\b\\ \b\bdone\n",
            "Solving environment: / \b\b- \b\b\\ \b\bdone\n",
            "\n",
            "# All requested packages already installed.\n",
            "\n",
            "installation finished.\n",
            "WARNING:\n",
            "    You currently have a PYTHONPATH environment variable set. This may cause\n",
            "    unexpected behavior when running the Python interpreter in Miniconda3.\n",
            "    For best results, please verify that your PYTHONPATH only points to\n",
            "    directories of packages that are compatible with the Python interpreter\n",
            "    in Miniconda3: /usr/local\n"
          ]
        }
      ],
      "source": [
        "import sys\n",
        "!wget https://repo.anaconda.com/miniconda/Miniconda3-latest-Linux-x86_64.sh\n",
        "!chmod +x Miniconda3-latest-Linux-x86_64.sh\n",
        "!bash ./Miniconda3-latest-Linux-x86_64.sh -b -f -p /usr/local\n",
        "sys.path.append('/usr/local/lib/python3.7/site-packages/')\n",
        "!rm Miniconda3-latest-Linux-x86_64.sh"
      ]
    },
    {
      "cell_type": "code",
      "execution_count": 23,
      "metadata": {
        "colab": {
          "base_uri": "https://localhost:8080/"
        },
        "id": "T5VeSNfTOkNC",
        "outputId": "51e199fa-7312-494e-b1e4-f1520426a438"
      },
      "outputs": [
        {
          "name": "stdout",
          "output_type": "stream",
          "text": [
            "Reading package lists... Done\n",
            "Building dependency tree       \n",
            "Reading state information... Done\n",
            "aria2 is already the newest version (1.33.1-1).\n",
            "The following package was automatically installed and is no longer required:\n",
            "  libnvidia-common-460\n",
            "Use 'sudo apt autoremove' to remove it.\n",
            "0 upgraded, 0 newly installed, 0 to remove and 5 not upgraded.\n",
            "Reading package lists... Done\n",
            "Building dependency tree       \n",
            "Reading state information... Done\n",
            "file is already the newest version (1:5.32-2ubuntu0.4).\n",
            "The following package was automatically installed and is no longer required:\n",
            "  libnvidia-common-460\n",
            "Use 'sudo apt autoremove' to remove it.\n",
            "0 upgraded, 0 newly installed, 0 to remove and 5 not upgraded.\n",
            "mkdir: cannot create directory ‘/content/time’: File exists\n",
            "fatal: destination path '/content/time' already exists and is not an empty directory.\n",
            "/content/time\n",
            "/content/time\n",
            "total 36\n",
            "-rw-r--r-- 1 root root  279 Nov 30 15:43 CHANGES.rst\n",
            "-rw-r--r-- 1 root root 1082 Nov 30 15:43 LICENSE.txt\n",
            "-rw-r--r-- 1 root root  222 Nov 30 15:43 Makefile\n",
            "-rw-r--r-- 1 root root   14 Nov 30 15:43 MANIFEST.in\n",
            "-rw-r--r-- 1 root root 2804 Nov 30 15:43 README.rst\n",
            "-rw-r--r-- 1 root root 1047 Nov 30 15:43 setup.py\n",
            "drwxr-xr-x 2 root root 4096 Nov 30 15:43 tests\n",
            "drwxr-xr-x 2 root root 4096 Nov 30 15:43 timeout_decorator\n",
            "-rw-r--r-- 1 root root  289 Nov 30 15:43 tox.ini\n"
          ]
        }
      ],
      "source": [
        "!sudo apt-get install aria2\n",
        "!sudo apt-get install file\n",
        "\n",
        "!mkdir /content/time\n",
        "!git clone https://github.com/pnpnpn/timeout-decorator.git /content/time\n",
        "%cd /content/time\n",
        "!pwd\n",
        "!ls -l"
      ]
    },
    {
      "cell_type": "code",
      "execution_count": 24,
      "metadata": {
        "colab": {
          "base_uri": "https://localhost:8080/"
        },
        "id": "k1Dt3cW6QlQ9",
        "outputId": "074509f6-d5ba-4359-86ee-0afb3c1698e7"
      },
      "outputs": [
        {
          "name": "stdout",
          "output_type": "stream",
          "text": [
            "/content/time\n",
            "/content/n2\n",
            "\n",
            "11/30 16:00:10 [\u001b[1;32mNOTICE\u001b[0m] Downloading 1 item(s)\n",
            "\n",
            "11/30 16:00:10 [\u001b[1;31mERROR\u001b[0m] Exception caught while loading DHT routing table from /root/.cache/aria2/dht.dat\n",
            "Exception: [DHTRoutingTableDeserializer.cc:83] errorCode=1 Failed to load DHT routing table from /root/.cache/aria2/dht.dat\n",
            "\n",
            "11/30 16:00:10 [\u001b[1;32mNOTICE\u001b[0m] IPv4 DHT: listening on UDP port 6992\n",
            "\n",
            "11/30 16:00:10 [\u001b[1;32mNOTICE\u001b[0m] IPv4 BitTorrent: listening on TCP port 6946\n",
            "\n",
            "11/30 16:00:10 [\u001b[1;31mERROR\u001b[0m] IPv6 BitTorrent: failed to bind TCP port 6946\n",
            "Exception: [SocketCore.cc:312] errorCode=1 Failed to bind a socket, cause: Name or service not known\n",
            "\u001b[0m\n",
            "11/30 16:00:12 [\u001b[1;32mNOTICE\u001b[0m] Download complete: [MEMORY][METADATA]naifu\n",
            " *** Download Progress Summary as of Wed Nov 30 16:01:10 2022 *** \n",
            "=\n",
            "[#31591a 4.6GiB/7.4GiB(62%) CN:25 SD:16 DL:80MiB ETA:35s]\n",
            "FILE: /content/n2/naifu/README.txt (36more)\n",
            "-\n",
            "\n",
            " *** Download Progress Summary as of Wed Nov 30 16:02:11 2022 *** \n",
            "=\n",
            "[#31591a SEED(0.0) CN:36 SD:0]\n",
            "FILE: /content/n2/naifu/README.txt (36more)\n",
            "-\n",
            "\n",
            "\u001b[0m下载完成\n"
          ]
        }
      ],
      "source": [
        "# 下载NA\n",
        "%cd /content/time\n",
        "\n",
        "import timeout_decorator\n",
        "\n",
        "outTime=180\n",
        "\n",
        "@timeout_decorator.timeout(outTime)\n",
        "def downNovelAI():\n",
        "  !rm -rf /content/n2\n",
        "  !mkdir /content/n2\n",
        "  %cd /content/n2\n",
        "  !aria2c \"magnet:?xt=urn:btih:4a4b483d4a5840b6e1fee6b0ca1582c979434e4d&dn=naifu&tr=udp%3a%2f%2ftracker.opentrackr.org%3a1337%2fannounce\"\n",
        "\n",
        "def checkFile():\n",
        "  !file /content/n2/naifu/models/animefull-final-pruned/model.ckpt>fileinfo\n",
        "  !file /content/n2/naifu/models/animevae.pt>fileinfo2\n",
        "  f1=open(\"fileinfo\")\n",
        "  res1=f1.read()\n",
        "  f1.close\n",
        "  f2=open(\"fileinfo2\")\n",
        "  res2=f2.read()\n",
        "  f2.close\n",
        "  return \"Zip\" in res1 and \"Zip\" in res2\n",
        "\n",
        "while 1:\n",
        "  try:\n",
        "    downNovelAI()\n",
        "  except:\n",
        "    if checkFile():\n",
        "      print(\"下载完成\")\n",
        "      outTime+=60\n",
        "      break\n",
        "    else:\n",
        "      print(\"下载未完成，自动重试。因种子站问题下载速度可能有波动。当前预计完成时间:\",outTime,\"s\")"
      ]
    },
    {
      "cell_type": "code",
      "execution_count": 25,
      "metadata": {
        "id": "ylNmNggiQqPr"
      },
      "outputs": [],
      "source": [
        "# 复制模型\n",
        "\n",
        "!cp /content/n2/naifu/models/animefull-final-pruned/model.ckpt /content/stable-diffusion-webui/models/Stable-diffusion/model.ckpt\n",
        "!cp /content/n2/naifu/models/animevae.pt /content/stable-diffusion-webui/models/Stable-diffusionmodel.pt\n",
        "!rm -rf /content/n2"
      ]
    },
    {
      "cell_type": "code",
      "execution_count": 26,
      "metadata": {
        "colab": {
          "base_uri": "https://localhost:8080/"
        },
        "id": "ZzRNMT42Gw_p",
        "outputId": "993727ce-cef5-4b33-a6d7-a843a60474a2"
      },
      "outputs": [
        {
          "name": "stdout",
          "output_type": "stream",
          "text": [
            "/content/stable-diffusion-webui/models/Stable-diffusion\n",
            "  % Total    % Received % Xferd  Average Speed   Time    Time     Time  Current\n",
            "                                 Dload  Upload   Total   Spent    Left  Speed\n",
            "100  784M  100  784M    0     0   110M      0  0:00:07  0:00:07 --:--:--  121M\n",
            "  % Total    % Received % Xferd  Average Speed   Time    Time     Time  Current\n",
            "                                 Dload  Upload   Total   Spent    Left  Speed\n",
            "100 1004M  100 1004M    0     0   152M      0  0:00:06  0:00:06 --:--:--  149M\n"
          ]
        }
      ],
      "source": [
        "!mkdir -p  /content/stable-diffusion-webui/models/hypernetworks\n",
        "%cd /content/stable-diffusion-webui/models/Stable-diffusion/\n",
        "\n",
        "# 7G animefull-final-latest (may not work)\n",
        "# !gdown 17WWd6KEsBj7D_0TyGp8aXHQDlchYVs1a -O /content/stable-diffusion-webui/models/Stable-diffusion/model.ckpt\n",
        "\n",
        "# 4G animefull-final-pruned\n",
        "# !gdown 1d3f2fvN2gLRocBahZrXe_v1EEHuqpUzT -O /content/stable-diffusion-webui/models/Stable-diffusion/model.ckpt\n",
        "\n",
        "# 4G animefull-final-pruned (backup)\n",
        "#!aria2c -o model.ckpt https://cloudflare-ipfs.com/ipfs/bafybeicpamreyp2bsocyk3hpxr7ixb2g2rnrequub3j2ahrkdxbvfbvjc4/model.ckpt\n",
        "\n",
        "# Install VAE Weights (optional)\n",
        "!curl -Lo model.vae.pt https://cloudflare-ipfs.com/ipfs/bafybeiccldswdd3wvg57jhclcq53lvsc6gizasiblwayvhlv6eq4wow7wu/animevae.pt \n",
        "\n",
        "# Install hypernetwork （optional)\n",
        "!curl -L https://cloudflare-ipfs.com/ipfs/bafybeiduanx2b3mcvxlwr66igcwnpfmk3nc3qgxlpwh6oq6m6pxii3f77e/_modules.tar | tar x -C /content/stable-diffusion-webui/models/hypernetworks\n",
        "\n",
        "# Install custom embeddings (modified, optional)\n",
        "# !curl -L https://cloudflare-ipfs.com/ipfs/bafybeie3hdjchxs5tz4n75bos53nhcklslguxchdurc2ynrzcfv2kwyklu/embeddings.tar | tar x -C /content/stable-diffusion-webui/embeddings"
      ]
    },
    {
      "cell_type": "markdown",
      "metadata": {
        "id": "xt8lbdmC04ox"
      },
      "source": [
        "启动 web ui. 您将获得一个链接 nnn.gradio.app, 访问它.\n",
        "\n",
        "命令行参数是:\n",
        "  - `--share` - 创建在线 gradio.app 链接\n",
        "  - `--gradio-debug` - 将输出打印到控制台\n",
        "  - `--gradio-auth me:qwerty` - 添加身份验证到 gradio：用户名 me，密码 qwerty"
      ]
    },
    {
      "cell_type": "code",
      "execution_count": null,
      "metadata": {
        "colab": {
          "base_uri": "https://localhost:8080/"
        },
        "id": "R-xAdMA5wxXd",
        "outputId": "1f835a67-3b2c-43ec-a00d-4611533cd627"
      },
      "outputs": [
        {
          "name": "stdout",
          "output_type": "stream",
          "text": [
            "/content/stable-diffusion-webui\n",
            "Python 3.9.12 (main, Apr  5 2022, 06:56:58) \n",
            "[GCC 7.5.0]\n",
            "Commit hash: 4b3c5bc24bffdf429c463a465763b3077fe55eb8\n",
            "Installing requirements for Web UI\n",
            "Launching Web UI with arguments: --share --gradio-debug --medvram\n",
            "No module 'xformers'. Proceeding without it.\n",
            "LatentDiffusion: Running in eps-prediction mode\n",
            "DiffusionWrapper has 859.52 M params.\n",
            "Loading weights [925997e9] from /content/stable-diffusion-webui/models/Stable-diffusion/model.ckpt\n",
            "Using VAE found similar to selected model: /content/stable-diffusion-webui/models/Stable-diffusion/model.vae.pt\n",
            "Loading VAE weights from: /content/stable-diffusion-webui/models/Stable-diffusion/model.vae.pt\n",
            "Applying cross attention optimization (Doggettx).\n",
            "Model loaded.\n",
            "Loaded a total of 0 textual inversion embeddings.\n",
            "Embeddings: \n",
            "Running on local URL:  http://127.0.0.1:7860\n",
            "Running on public URL: https://8070c0ab024a3249.gradio.app\n",
            "\n",
            "This share link expires in 72 hours. For free permanent hosting and GPU upgrades (NEW!), check out Spaces: https://huggingface.co/spaces\n",
            "Traceback (most recent call last):\n",
            "  File \"/usr/local/lib/python3.9/site-packages/gradio/routes.py\", line 284, in run_predict\n",
            "    output = await app.blocks.process_api(\n",
            "  File \"/usr/local/lib/python3.9/site-packages/gradio/blocks.py\", line 982, in process_api\n",
            "    result = await self.call_function(fn_index, inputs, iterator)\n",
            "  File \"/usr/local/lib/python3.9/site-packages/gradio/blocks.py\", line 824, in call_function\n",
            "    prediction = await anyio.to_thread.run_sync(\n",
            "  File \"/usr/local/lib/python3.9/site-packages/anyio/to_thread.py\", line 31, in run_sync\n",
            "    return await get_asynclib().run_sync_in_worker_thread(\n",
            "  File \"/usr/local/lib/python3.9/site-packages/anyio/_backends/_asyncio.py\", line 937, in run_sync_in_worker_thread\n",
            "    return await future\n",
            "  File \"/usr/local/lib/python3.9/site-packages/anyio/_backends/_asyncio.py\", line 867, in run\n",
            "    result = context.run(func, *args)\n",
            "  File \"/content/stable-diffusion-webui/modules/generation_parameters_copypaste.py\", line 198, in paste_func\n",
            "    params = parse_generation_parameters(prompt)\n",
            "  File \"/content/stable-diffusion-webui/modules/generation_parameters_copypaste.py\", line 160, in parse_generation_parameters\n",
            "    *lines, lastline = x.strip().split(\"\\n\")\n",
            "AttributeError: 'NoneType' object has no attribute 'strip'\n",
            "  0% 0/20 [00:00<?, ?it/s]\n",
            "  5% 1/20 [00:04<01:26,  4.54s/it]\n",
            " 10% 2/20 [00:04<00:36,  2.01s/it]\n",
            " 15% 3/20 [00:05<00:20,  1.20s/it]\n",
            " 20% 4/20 [00:05<00:13,  1.23it/s]\n",
            " 25% 5/20 [00:05<00:09,  1.65it/s]\n",
            " 30% 6/20 [00:05<00:06,  2.08it/s]\n",
            " 35% 7/20 [00:05<00:05,  2.51it/s]\n",
            " 40% 8/20 [00:06<00:04,  2.89it/s]\n",
            " 45% 9/20 [00:06<00:03,  3.22it/s]\n",
            " 50% 10/20 [00:06<00:02,  3.48it/s]\n",
            " 55% 11/20 [00:06<00:02,  3.70it/s]\n",
            " 60% 12/20 [00:07<00:02,  3.87it/s]\n",
            " 65% 13/20 [00:07<00:01,  3.99it/s]\n",
            " 70% 14/20 [00:07<00:01,  4.07it/s]\n",
            " 75% 15/20 [00:07<00:01,  4.14it/s]\n",
            " 80% 16/20 [00:08<00:00,  4.18it/s]\n",
            " 85% 17/20 [00:08<00:00,  4.22it/s]\n",
            " 90% 18/20 [00:08<00:00,  4.24it/s]\n",
            " 95% 19/20 [00:08<00:00,  4.25it/s]\n",
            "100% 20/20 [00:08<00:00,  2.23it/s]\n",
            "Total progress: 100% 20/20 [00:05<00:00,  3.51it/s]\n",
            "  0% 0/16 [00:00<?, ?it/s]\n",
            "  6% 1/16 [00:01<00:15,  1.02s/it]\n",
            " 12% 2/16 [00:01<00:07,  1.79it/s]\n",
            " 19% 3/16 [00:01<00:05,  2.45it/s]\n",
            " 25% 4/16 [00:01<00:04,  2.96it/s]\n",
            " 31% 5/16 [00:01<00:03,  3.33it/s]\n",
            " 38% 6/16 [00:02<00:02,  3.60it/s]\n",
            " 44% 7/16 [00:02<00:02,  3.79it/s]\n",
            " 50% 8/16 [00:02<00:02,  3.95it/s]\n",
            " 56% 9/16 [00:02<00:01,  4.05it/s]\n",
            " 62% 10/16 [00:03<00:01,  4.13it/s]\n",
            " 69% 11/16 [00:03<00:01,  4.17it/s]\n",
            " 75% 12/16 [00:03<00:00,  4.20it/s]\n",
            " 81% 13/16 [00:03<00:00,  4.22it/s]\n",
            " 88% 14/16 [00:04<00:00,  4.24it/s]\n",
            " 94% 15/16 [00:04<00:00,  4.26it/s]\n",
            "100% 16/16 [00:04<00:00,  3.54it/s]\n",
            "Total progress: 100% 16/16 [00:04<00:00,  3.42it/s]\n",
            "  0% 0/38 [00:00<?, ?it/s]\n",
            "  3% 1/38 [00:00<00:35,  1.03it/s]\n",
            "  5% 2/38 [00:01<00:19,  1.87it/s]\n",
            "  8% 3/38 [00:01<00:13,  2.52it/s]\n",
            " 11% 4/38 [00:01<00:11,  3.02it/s]\n",
            " 13% 5/38 [00:01<00:09,  3.38it/s]\n",
            " 16% 6/38 [00:02<00:08,  3.65it/s]\n",
            " 18% 7/38 [00:02<00:08,  3.84it/s]\n",
            " 21% 8/38 [00:02<00:07,  3.98it/s]\n",
            " 24% 9/38 [00:02<00:07,  4.07it/s]\n",
            " 26% 10/38 [00:03<00:06,  4.14it/s]\n",
            " 29% 11/38 [00:03<00:06,  4.19it/s]\n",
            " 32% 12/38 [00:03<00:06,  4.21it/s]\n",
            " 34% 13/38 [00:03<00:05,  4.24it/s]\n",
            " 37% 14/38 [00:03<00:05,  4.27it/s]\n",
            " 39% 15/38 [00:04<00:05,  4.27it/s]\n",
            " 42% 16/38 [00:04<00:05,  4.28it/s]\n",
            " 45% 17/38 [00:04<00:04,  4.29it/s]\n",
            " 47% 18/38 [00:04<00:04,  4.30it/s]\n",
            " 50% 19/38 [00:05<00:04,  4.29it/s]\n",
            " 53% 20/38 [00:05<00:04,  4.30it/s]\n",
            " 55% 21/38 [00:05<00:03,  4.29it/s]\n",
            " 58% 22/38 [00:05<00:03,  4.30it/s]\n",
            " 61% 23/38 [00:06<00:03,  4.29it/s]\n",
            " 63% 24/38 [00:06<00:03,  4.30it/s]\n",
            " 66% 25/38 [00:06<00:03,  4.29it/s]\n",
            " 68% 26/38 [00:06<00:02,  4.29it/s]\n",
            " 71% 27/38 [00:07<00:02,  4.30it/s]\n",
            " 74% 28/38 [00:07<00:02,  4.30it/s]\n",
            " 76% 29/38 [00:07<00:02,  4.30it/s]\n",
            " 79% 30/38 [00:07<00:01,  4.29it/s]\n",
            " 82% 31/38 [00:07<00:01,  4.29it/s]\n",
            " 84% 32/38 [00:08<00:01,  4.30it/s]\n",
            " 87% 33/38 [00:08<00:01,  4.29it/s]\n",
            " 89% 34/38 [00:08<00:00,  4.29it/s]\n",
            " 92% 35/38 [00:08<00:00,  4.30it/s]\n",
            " 95% 36/38 [00:09<00:00,  4.30it/s]\n",
            " 97% 37/38 [00:09<00:00,  4.31it/s]\n",
            "100% 38/38 [00:09<00:00,  3.97it/s]\n",
            "Downloading: \"https://github.com/sczhou/CodeFormer/releases/download/v0.1.0/codeformer.pth\" to /content/stable-diffusion-webui/models/Codeformer/codeformer-v0.1.0.pth\n",
            "\n",
            "100% 359M/359M [00:01<00:00, 259MB/s]\n",
            "Downloading: \"https://github.com/xinntao/facexlib/releases/download/v0.1.0/detection_Resnet50_Final.pth\" to /content/stable-diffusion-webui/repositories/CodeFormer/weights/facelib/detection_Resnet50_Final.pth\n",
            "\n",
            "100% 104M/104M [00:13<00:00, 8.08MB/s] \n",
            "Downloading: \"https://github.com/sczhou/CodeFormer/releases/download/v0.1.0/parsing_parsenet.pth\" to /content/stable-diffusion-webui/repositories/CodeFormer/weights/facelib/parsing_parsenet.pth\n",
            "\n",
            "100% 81.4M/81.4M [00:04<00:00, 18.8MB/s]\n",
            "Total progress: 100% 38/38 [00:34<00:00,  1.09it/s]\n",
            "  0% 0/76 [00:00<?, ?it/s]\n",
            "  1% 1/76 [00:01<01:20,  1.07s/it]\n",
            "  3% 2/76 [00:01<00:42,  1.72it/s]\n",
            "  4% 3/76 [00:01<00:30,  2.37it/s]\n",
            "  5% 4/76 [00:01<00:25,  2.87it/s]\n",
            "  7% 5/76 [00:02<00:21,  3.26it/s]\n",
            "  8% 6/76 [00:02<00:19,  3.54it/s]\n",
            "  9% 7/76 [00:02<00:18,  3.76it/s]\n",
            " 11% 8/76 [00:02<00:17,  3.91it/s]\n",
            " 12% 9/76 [00:02<00:16,  4.01it/s]\n",
            " 13% 10/76 [00:03<00:16,  4.08it/s]\n",
            " 14% 11/76 [00:03<00:15,  4.11it/s]\n",
            " 16% 12/76 [00:03<00:15,  4.17it/s]\n",
            " 17% 13/76 [00:03<00:14,  4.20it/s]\n",
            " 18% 14/76 [00:04<00:14,  4.22it/s]\n",
            " 20% 15/76 [00:04<00:14,  4.24it/s]\n",
            " 21% 16/76 [00:04<00:14,  4.25it/s]\n",
            " 22% 17/76 [00:04<00:13,  4.26it/s]\n",
            " 24% 18/76 [00:05<00:13,  4.26it/s]\n",
            " 25% 19/76 [00:05<00:13,  4.26it/s]\n",
            " 26% 20/76 [00:05<00:13,  4.26it/s]\n",
            " 28% 21/76 [00:05<00:12,  4.26it/s]\n",
            " 29% 22/76 [00:06<00:12,  4.24it/s]\n",
            " 30% 23/76 [00:06<00:12,  4.26it/s]\n",
            " 32% 24/76 [00:06<00:12,  4.26it/s]\n",
            " 33% 25/76 [00:06<00:11,  4.27it/s]\n",
            " 34% 26/76 [00:06<00:11,  4.26it/s]\n",
            " 36% 27/76 [00:07<00:11,  4.25it/s]\n",
            " 37% 28/76 [00:07<00:11,  4.26it/s]\n",
            " 38% 29/76 [00:07<00:11,  4.24it/s]\n",
            " 39% 30/76 [00:07<00:10,  4.25it/s]\n",
            " 41% 31/76 [00:08<00:10,  4.25it/s]\n",
            " 42% 32/76 [00:08<00:10,  4.26it/s]\n",
            " 43% 33/76 [00:08<00:10,  4.24it/s]\n",
            " 45% 34/76 [00:08<00:09,  4.25it/s]\n",
            " 46% 35/76 [00:09<00:09,  4.24it/s]\n",
            " 47% 36/76 [00:09<00:09,  4.23it/s]\n",
            " 49% 37/76 [00:09<00:09,  4.24it/s]\n",
            " 50% 38/76 [00:09<00:08,  4.24it/s]\n",
            " 51% 39/76 [00:10<00:08,  4.24it/s]\n",
            " 53% 40/76 [00:10<00:08,  4.25it/s]\n",
            " 54% 41/76 [00:10<00:08,  4.24it/s]\n",
            " 55% 42/76 [00:10<00:08,  4.24it/s]\n",
            " 57% 43/76 [00:10<00:07,  4.24it/s]\n",
            " 58% 44/76 [00:11<00:07,  4.23it/s]\n",
            " 59% 45/76 [00:11<00:07,  4.24it/s]\n",
            " 61% 46/76 [00:11<00:07,  4.23it/s]\n",
            " 62% 47/76 [00:11<00:06,  4.23it/s]\n",
            " 63% 48/76 [00:12<00:06,  4.24it/s]\n",
            " 64% 49/76 [00:12<00:06,  4.23it/s]\n",
            " 66% 50/76 [00:12<00:06,  4.24it/s]\n",
            " 67% 51/76 [00:12<00:05,  4.24it/s]\n",
            " 68% 52/76 [00:13<00:05,  4.23it/s]\n",
            " 70% 53/76 [00:13<00:05,  4.23it/s]\n",
            " 71% 54/76 [00:13<00:05,  4.23it/s]\n",
            " 72% 55/76 [00:13<00:04,  4.23it/s]\n",
            " 74% 56/76 [00:14<00:04,  4.23it/s]\n",
            " 75% 57/76 [00:14<00:04,  4.23it/s]\n",
            " 76% 58/76 [00:14<00:04,  4.23it/s]\n",
            " 78% 59/76 [00:14<00:04,  4.23it/s]\n",
            " 79% 60/76 [00:14<00:03,  4.24it/s]\n",
            " 80% 61/76 [00:15<00:03,  4.24it/s]\n",
            " 82% 62/76 [00:15<00:03,  4.24it/s]\n",
            " 83% 63/76 [00:15<00:03,  4.21it/s]\n",
            " 84% 64/76 [00:15<00:02,  4.23it/s]\n",
            " 86% 65/76 [00:16<00:02,  4.24it/s]\n",
            " 87% 66/76 [00:16<00:02,  4.23it/s]\n",
            " 88% 67/76 [00:16<00:02,  4.23it/s]\n",
            " 89% 68/76 [00:16<00:01,  4.23it/s]\n",
            " 91% 69/76 [00:17<00:01,  4.23it/s]\n",
            " 92% 70/76 [00:17<00:01,  4.23it/s]\n",
            " 93% 71/76 [00:17<00:01,  4.23it/s]\n",
            " 95% 72/76 [00:17<00:00,  4.24it/s]\n",
            " 96% 73/76 [00:18<00:00,  4.24it/s]\n",
            " 97% 74/76 [00:18<00:00,  4.23it/s]\n",
            " 99% 75/76 [00:18<00:00,  4.22it/s]\n",
            "100% 76/76 [00:18<00:00,  4.05it/s]\n",
            "  0% 0/76 [00:00<?, ?it/s]"
          ]
        }
      ],
      "source": [
        "%cd /content/stable-diffusion-webui\n",
        "!COMMANDLINE_ARGS=\"--share --gradio-debug --medvram\" REQS_FILE=\"requirements.txt\" python launch.py"
      ]
    },
    {
      "cell_type": "markdown",
      "metadata": {
        "id": "T3957x2AY7iP"
      },
      "source": [
        "用于您已经完成了一个会话 ***之后*** 的命令\n",
        "============================================================================"
      ]
    },
    {
      "cell_type": "markdown",
      "metadata": {
        "id": "aCtJffM2ZE06"
      },
      "source": [
        "用于在本地驱动器上下载的Zip图像（单击左侧的文件夹图标，即{x}下方的文件夹图标）"
      ]
    },
    {
      "cell_type": "code",
      "execution_count": null,
      "metadata": {
        "id": "TmRqNyiAZCHu"
      },
      "outputs": [],
      "source": [
        "!zip -r /content/stable-diffusion-webui /content/stable-diffusion-webui/outputs "
      ]
    },
    {
      "cell_type": "markdown",
      "metadata": {
        "id": "tcslU-S2ZNr9"
      },
      "source": [
        "将图像保存到Google云端硬盘 **Warning: this will cause google to scan your drive, so if you intend to use this and worry about that kind of stuff, probablly just set this up on a clean account that's just for this colab**"
      ]
    },
    {
      "cell_type": "code",
      "execution_count": null,
      "metadata": {
        "id": "-N0lnu-TZOTW"
      },
      "outputs": [],
      "source": [
        "from google.colab import drive # type: ignore\n",
        "\n",
        "try:\n",
        "   drive_path = \"/content/drive\"\n",
        "   drive.mount(drive_path,force_remount=False)\n",
        "except:\n",
        "   print(\"...error mounting drive or with drive path variables\")\n",
        "\n",
        "!cp -r \"/content/stable-diffusion-webui/outputs\" \"/content/drive/MyDrive\""
      ]
    }
  ],
  "metadata": {
    "accelerator": "GPU",
    "colab": {
      "provenance": []
    },
    "gpuClass": "standard",
    "kernelspec": {
      "display_name": "Python 3.10.6 64-bit",
      "language": "python",
      "name": "python3"
    },
    "language_info": {
      "name": "python",
      "version": "3.10.6"
    },
    "vscode": {
      "interpreter": {
        "hash": "301a17a29b57d3836b7901af1621afd6d2b1f2298b9c7949191147cf2fea93e3"
      }
    }
  },
  "nbformat": 4,
  "nbformat_minor": 0
}
